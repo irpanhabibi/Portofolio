{
 "cells": [
  {
   "cell_type": "markdown",
   "id": "e2ddc39e",
   "metadata": {},
   "source": [
    "# Milestone 1 Phase 1\n",
    "\n",
    "Holla.. Irpan Habibi's here from Batch 004 Hacktiv8's Fulltime Data Science Programs"
   ]
  },
  {
   "cell_type": "markdown",
   "id": "38d82e2d",
   "metadata": {},
   "source": [
    "# Problem\n",
    "\n",
    "The data is related with direct marketing campaigns of a Portuguese banking institution. The marketing campaigns were based on phone calls. Often, more than one contact to the same client was required, in order to access if the product (bank term deposit) would be ('yes') or not ('no') subscribed.\n",
    "\n",
    "The classification goal is **to predict if the client will subscribe (yes/no) a term deposit (variable y)**.\n",
    "\n",
    "**Attribute Information:**\n",
    "\n",
    "Input variables:\n",
    "\n",
    "**#bank client data:**\n",
    "\n",
    "- **age** (numeric)\n",
    "- **job** : type of job (categorical: 'admin.','blue-collar','entrepreneur','housemaid','management','retired','self-employed','services','student','technician','unemployed','unknown')\n",
    "- **marital** : marital status (categorical: 'divorced','married','single','unknown'; note: 'divorced' means divorced or widowed)\n",
    "- **education** (categorical: 'basic.4y','basic.6y','basic.9y','high.school','illiterate','professional.course','university.degree','unknown')\n",
    "- **default** : has credit in default? (categorical: 'no','yes','unknown')\n",
    "- **housing** : has housing loan? (categorical: 'no','yes','unknown')\n",
    "- **loan** : has personal loan? (categorical: 'no','yes','unknown')\n",
    "\n",
    "**#related with the last contact of the current campaign:**\n",
    "\n",
    "- **contact** : contact communication type (categorical: 'cellular','telephone')\n",
    "- **month** : last contact month of year (categorical: 'jan', 'feb', 'mar', ..., 'nov', 'dec')\n",
    "- **day_of_week** : last contact day of the week (categorical: 'mon','tue','wed','thu','fri')\n",
    "- **duration** : last contact duration, in seconds (numeric). Important note: this attribute highly affects the output target (e.g., if duration=0 then y='no'). Yet, the duration is not known before a call is performed. Also, after the end of the call y is obviously known. Thus, this input should only be included for benchmark purposes and should be discarded if the intention is to have a realistic predictive model.\n",
    "\n",
    "**#other attributes:**\n",
    "\n",
    "- **campaign** : number of contacts performed during this campaign and for this client (numeric, includes last contact)\n",
    "- **pdays** : number of days that passed by after the client was last contacted from a previous campaign (numeric; 999 means client was not previously contacted)\n",
    "- **previous** : number of contacts performed before this campaign and for this client (numeric)\n",
    "- **poutcome** : outcome of the previous marketing campaign (categorical: 'failure','nonexistent','success')\n",
    "\n",
    "**#social and economic context attributes**\n",
    "\n",
    "- **emp.var.rate** : employment variation rate - quarterly indicator (numeric)\n",
    "- **cons.price.idx** : consumer price index - monthly indicator (numeric)\n",
    "- **cons.conf.idx** : consumer confidence index - monthly indicator (numeric)\n",
    "- **euribor3m** : euribor 3 month rate - daily indicator (numeric)\n",
    "- **nr.employed** : number of employees - quarterly indicator (numeric)\n",
    "\n",
    "**Output variable (desired target):**\n",
    "- **y** : has the client subscribed a term deposit? (binary: 'yes','no')"
   ]
  },
  {
   "cell_type": "markdown",
   "id": "a0cb0597",
   "metadata": {},
   "source": [
    "***ii. Import Libraries***\n",
    "\n",
    "The first step in building the model is to import the necessary libraries."
   ]
  },
  {
   "cell_type": "code",
   "execution_count": 1,
   "id": "4e58a8ca",
   "metadata": {},
   "outputs": [],
   "source": [
    "import pandas as pd\n",
    "import numpy as np\n",
    "import seaborn as sns\n",
    "import matplotlib.pyplot as plt\n",
    "from matplotlib.colors import ListedColormap\n",
    "\n",
    "from sklearn.model_selection import train_test_split\n",
    "\n",
    "from time import time\n",
    "from warnings import filterwarnings\n",
    "filterwarnings('ignore')\n",
    "\n",
    "%matplotlib inline"
   ]
  },
  {
   "cell_type": "markdown",
   "id": "3df21320",
   "metadata": {},
   "source": [
    "***iii. Data Loading***"
   ]
  },
  {
   "cell_type": "code",
   "execution_count": 2,
   "id": "fd57a53e",
   "metadata": {},
   "outputs": [],
   "source": [
    "data = 'bank-additional-full.csv'\n",
    "df = pd.read_csv(data,delimiter=';')"
   ]
  },
  {
   "cell_type": "markdown",
   "id": "6a1d51cb",
   "metadata": {},
   "source": [
    "***iv. Explonatory Data Analysis***\n",
    "\n",
    "We have loaded the data. Now, its time to explore the data to gain insights about it."
   ]
  },
  {
   "cell_type": "markdown",
   "id": "fb5ac6bc",
   "metadata": {},
   "source": [
    "- *View dimensions of dataset*"
   ]
  },
  {
   "cell_type": "code",
   "execution_count": 3,
   "id": "995c7173",
   "metadata": {},
   "outputs": [
    {
     "data": {
      "text/plain": [
       "(41188, 21)"
      ]
     },
     "execution_count": 3,
     "metadata": {},
     "output_type": "execute_result"
    }
   ],
   "source": [
    "df.shape"
   ]
  },
  {
   "cell_type": "markdown",
   "id": "0ac0b0bd",
   "metadata": {},
   "source": [
    "- *View column names*"
   ]
  },
  {
   "cell_type": "code",
   "execution_count": 4,
   "id": "e30b5d23",
   "metadata": {},
   "outputs": [
    {
     "data": {
      "text/plain": [
       "Index(['age', 'job', 'marital', 'education', 'default', 'housing', 'loan',\n",
       "       'contact', 'month', 'day_of_week', 'duration', 'campaign', 'pdays',\n",
       "       'previous', 'poutcome', 'emp.var.rate', 'cons.price.idx',\n",
       "       'cons.conf.idx', 'euribor3m', 'nr.employed', 'y'],\n",
       "      dtype='object')"
      ]
     },
     "execution_count": 4,
     "metadata": {},
     "output_type": "execute_result"
    }
   ],
   "source": [
    "cols = df.columns\n",
    "cols"
   ]
  },
  {
   "cell_type": "markdown",
   "id": "52c0d39e",
   "metadata": {},
   "source": [
    "- *Preview the dataset*"
   ]
  },
  {
   "cell_type": "code",
   "execution_count": 5,
   "id": "93f190e7",
   "metadata": {},
   "outputs": [
    {
     "data": {
      "text/html": [
       "<div>\n",
       "<style scoped>\n",
       "    .dataframe tbody tr th:only-of-type {\n",
       "        vertical-align: middle;\n",
       "    }\n",
       "\n",
       "    .dataframe tbody tr th {\n",
       "        vertical-align: top;\n",
       "    }\n",
       "\n",
       "    .dataframe thead th {\n",
       "        text-align: right;\n",
       "    }\n",
       "</style>\n",
       "<table border=\"1\" class=\"dataframe\">\n",
       "  <thead>\n",
       "    <tr style=\"text-align: right;\">\n",
       "      <th></th>\n",
       "      <th>age</th>\n",
       "      <th>job</th>\n",
       "      <th>marital</th>\n",
       "      <th>education</th>\n",
       "      <th>default</th>\n",
       "      <th>housing</th>\n",
       "      <th>loan</th>\n",
       "      <th>contact</th>\n",
       "      <th>month</th>\n",
       "      <th>day_of_week</th>\n",
       "      <th>...</th>\n",
       "      <th>campaign</th>\n",
       "      <th>pdays</th>\n",
       "      <th>previous</th>\n",
       "      <th>poutcome</th>\n",
       "      <th>emp.var.rate</th>\n",
       "      <th>cons.price.idx</th>\n",
       "      <th>cons.conf.idx</th>\n",
       "      <th>euribor3m</th>\n",
       "      <th>nr.employed</th>\n",
       "      <th>y</th>\n",
       "    </tr>\n",
       "  </thead>\n",
       "  <tbody>\n",
       "    <tr>\n",
       "      <th>27614</th>\n",
       "      <td>55</td>\n",
       "      <td>entrepreneur</td>\n",
       "      <td>divorced</td>\n",
       "      <td>university.degree</td>\n",
       "      <td>no</td>\n",
       "      <td>no</td>\n",
       "      <td>no</td>\n",
       "      <td>cellular</td>\n",
       "      <td>nov</td>\n",
       "      <td>fri</td>\n",
       "      <td>...</td>\n",
       "      <td>2</td>\n",
       "      <td>999</td>\n",
       "      <td>0</td>\n",
       "      <td>nonexistent</td>\n",
       "      <td>-0.1</td>\n",
       "      <td>93.200</td>\n",
       "      <td>-42.0</td>\n",
       "      <td>4.021</td>\n",
       "      <td>5195.8</td>\n",
       "      <td>no</td>\n",
       "    </tr>\n",
       "    <tr>\n",
       "      <th>34517</th>\n",
       "      <td>53</td>\n",
       "      <td>admin.</td>\n",
       "      <td>married</td>\n",
       "      <td>high.school</td>\n",
       "      <td>no</td>\n",
       "      <td>no</td>\n",
       "      <td>no</td>\n",
       "      <td>cellular</td>\n",
       "      <td>may</td>\n",
       "      <td>thu</td>\n",
       "      <td>...</td>\n",
       "      <td>2</td>\n",
       "      <td>999</td>\n",
       "      <td>0</td>\n",
       "      <td>nonexistent</td>\n",
       "      <td>-1.8</td>\n",
       "      <td>92.893</td>\n",
       "      <td>-46.2</td>\n",
       "      <td>1.266</td>\n",
       "      <td>5099.1</td>\n",
       "      <td>no</td>\n",
       "    </tr>\n",
       "    <tr>\n",
       "      <th>34883</th>\n",
       "      <td>32</td>\n",
       "      <td>technician</td>\n",
       "      <td>single</td>\n",
       "      <td>professional.course</td>\n",
       "      <td>no</td>\n",
       "      <td>yes</td>\n",
       "      <td>no</td>\n",
       "      <td>cellular</td>\n",
       "      <td>may</td>\n",
       "      <td>fri</td>\n",
       "      <td>...</td>\n",
       "      <td>1</td>\n",
       "      <td>999</td>\n",
       "      <td>0</td>\n",
       "      <td>nonexistent</td>\n",
       "      <td>-1.8</td>\n",
       "      <td>92.893</td>\n",
       "      <td>-46.2</td>\n",
       "      <td>1.250</td>\n",
       "      <td>5099.1</td>\n",
       "      <td>no</td>\n",
       "    </tr>\n",
       "    <tr>\n",
       "      <th>40767</th>\n",
       "      <td>34</td>\n",
       "      <td>technician</td>\n",
       "      <td>single</td>\n",
       "      <td>university.degree</td>\n",
       "      <td>no</td>\n",
       "      <td>no</td>\n",
       "      <td>no</td>\n",
       "      <td>cellular</td>\n",
       "      <td>sep</td>\n",
       "      <td>fri</td>\n",
       "      <td>...</td>\n",
       "      <td>3</td>\n",
       "      <td>999</td>\n",
       "      <td>1</td>\n",
       "      <td>failure</td>\n",
       "      <td>-1.1</td>\n",
       "      <td>94.199</td>\n",
       "      <td>-37.5</td>\n",
       "      <td>0.879</td>\n",
       "      <td>4963.6</td>\n",
       "      <td>yes</td>\n",
       "    </tr>\n",
       "    <tr>\n",
       "      <th>37196</th>\n",
       "      <td>42</td>\n",
       "      <td>unemployed</td>\n",
       "      <td>married</td>\n",
       "      <td>unknown</td>\n",
       "      <td>no</td>\n",
       "      <td>yes</td>\n",
       "      <td>yes</td>\n",
       "      <td>cellular</td>\n",
       "      <td>aug</td>\n",
       "      <td>thu</td>\n",
       "      <td>...</td>\n",
       "      <td>4</td>\n",
       "      <td>4</td>\n",
       "      <td>2</td>\n",
       "      <td>success</td>\n",
       "      <td>-2.9</td>\n",
       "      <td>92.201</td>\n",
       "      <td>-31.4</td>\n",
       "      <td>0.883</td>\n",
       "      <td>5076.2</td>\n",
       "      <td>yes</td>\n",
       "    </tr>\n",
       "    <tr>\n",
       "      <th>5154</th>\n",
       "      <td>37</td>\n",
       "      <td>blue-collar</td>\n",
       "      <td>single</td>\n",
       "      <td>basic.9y</td>\n",
       "      <td>no</td>\n",
       "      <td>yes</td>\n",
       "      <td>no</td>\n",
       "      <td>telephone</td>\n",
       "      <td>may</td>\n",
       "      <td>fri</td>\n",
       "      <td>...</td>\n",
       "      <td>2</td>\n",
       "      <td>999</td>\n",
       "      <td>0</td>\n",
       "      <td>nonexistent</td>\n",
       "      <td>1.1</td>\n",
       "      <td>93.994</td>\n",
       "      <td>-36.4</td>\n",
       "      <td>4.857</td>\n",
       "      <td>5191.0</td>\n",
       "      <td>no</td>\n",
       "    </tr>\n",
       "    <tr>\n",
       "      <th>15580</th>\n",
       "      <td>39</td>\n",
       "      <td>blue-collar</td>\n",
       "      <td>single</td>\n",
       "      <td>basic.4y</td>\n",
       "      <td>unknown</td>\n",
       "      <td>no</td>\n",
       "      <td>no</td>\n",
       "      <td>telephone</td>\n",
       "      <td>jul</td>\n",
       "      <td>fri</td>\n",
       "      <td>...</td>\n",
       "      <td>24</td>\n",
       "      <td>999</td>\n",
       "      <td>0</td>\n",
       "      <td>nonexistent</td>\n",
       "      <td>1.4</td>\n",
       "      <td>93.918</td>\n",
       "      <td>-42.7</td>\n",
       "      <td>4.957</td>\n",
       "      <td>5228.1</td>\n",
       "      <td>no</td>\n",
       "    </tr>\n",
       "    <tr>\n",
       "      <th>17611</th>\n",
       "      <td>55</td>\n",
       "      <td>blue-collar</td>\n",
       "      <td>divorced</td>\n",
       "      <td>basic.4y</td>\n",
       "      <td>no</td>\n",
       "      <td>yes</td>\n",
       "      <td>no</td>\n",
       "      <td>cellular</td>\n",
       "      <td>jul</td>\n",
       "      <td>mon</td>\n",
       "      <td>...</td>\n",
       "      <td>3</td>\n",
       "      <td>999</td>\n",
       "      <td>0</td>\n",
       "      <td>nonexistent</td>\n",
       "      <td>1.4</td>\n",
       "      <td>93.918</td>\n",
       "      <td>-42.7</td>\n",
       "      <td>4.962</td>\n",
       "      <td>5228.1</td>\n",
       "      <td>no</td>\n",
       "    </tr>\n",
       "    <tr>\n",
       "      <th>2703</th>\n",
       "      <td>38</td>\n",
       "      <td>technician</td>\n",
       "      <td>married</td>\n",
       "      <td>basic.6y</td>\n",
       "      <td>unknown</td>\n",
       "      <td>yes</td>\n",
       "      <td>yes</td>\n",
       "      <td>telephone</td>\n",
       "      <td>may</td>\n",
       "      <td>wed</td>\n",
       "      <td>...</td>\n",
       "      <td>3</td>\n",
       "      <td>999</td>\n",
       "      <td>0</td>\n",
       "      <td>nonexistent</td>\n",
       "      <td>1.1</td>\n",
       "      <td>93.994</td>\n",
       "      <td>-36.4</td>\n",
       "      <td>4.859</td>\n",
       "      <td>5191.0</td>\n",
       "      <td>no</td>\n",
       "    </tr>\n",
       "    <tr>\n",
       "      <th>7113</th>\n",
       "      <td>30</td>\n",
       "      <td>blue-collar</td>\n",
       "      <td>single</td>\n",
       "      <td>basic.4y</td>\n",
       "      <td>unknown</td>\n",
       "      <td>yes</td>\n",
       "      <td>yes</td>\n",
       "      <td>telephone</td>\n",
       "      <td>may</td>\n",
       "      <td>thu</td>\n",
       "      <td>...</td>\n",
       "      <td>4</td>\n",
       "      <td>999</td>\n",
       "      <td>0</td>\n",
       "      <td>nonexistent</td>\n",
       "      <td>1.1</td>\n",
       "      <td>93.994</td>\n",
       "      <td>-36.4</td>\n",
       "      <td>4.860</td>\n",
       "      <td>5191.0</td>\n",
       "      <td>no</td>\n",
       "    </tr>\n",
       "  </tbody>\n",
       "</table>\n",
       "<p>10 rows × 21 columns</p>\n",
       "</div>"
      ],
      "text/plain": [
       "       age           job   marital            education  default housing loan  \\\n",
       "27614   55  entrepreneur  divorced    university.degree       no      no   no   \n",
       "34517   53        admin.   married          high.school       no      no   no   \n",
       "34883   32    technician    single  professional.course       no     yes   no   \n",
       "40767   34    technician    single    university.degree       no      no   no   \n",
       "37196   42    unemployed   married              unknown       no     yes  yes   \n",
       "5154    37   blue-collar    single             basic.9y       no     yes   no   \n",
       "15580   39   blue-collar    single             basic.4y  unknown      no   no   \n",
       "17611   55   blue-collar  divorced             basic.4y       no     yes   no   \n",
       "2703    38    technician   married             basic.6y  unknown     yes  yes   \n",
       "7113    30   blue-collar    single             basic.4y  unknown     yes  yes   \n",
       "\n",
       "         contact month day_of_week  ...  campaign  pdays  previous  \\\n",
       "27614   cellular   nov         fri  ...         2    999         0   \n",
       "34517   cellular   may         thu  ...         2    999         0   \n",
       "34883   cellular   may         fri  ...         1    999         0   \n",
       "40767   cellular   sep         fri  ...         3    999         1   \n",
       "37196   cellular   aug         thu  ...         4      4         2   \n",
       "5154   telephone   may         fri  ...         2    999         0   \n",
       "15580  telephone   jul         fri  ...        24    999         0   \n",
       "17611   cellular   jul         mon  ...         3    999         0   \n",
       "2703   telephone   may         wed  ...         3    999         0   \n",
       "7113   telephone   may         thu  ...         4    999         0   \n",
       "\n",
       "          poutcome emp.var.rate  cons.price.idx  cons.conf.idx  euribor3m  \\\n",
       "27614  nonexistent         -0.1          93.200          -42.0      4.021   \n",
       "34517  nonexistent         -1.8          92.893          -46.2      1.266   \n",
       "34883  nonexistent         -1.8          92.893          -46.2      1.250   \n",
       "40767      failure         -1.1          94.199          -37.5      0.879   \n",
       "37196      success         -2.9          92.201          -31.4      0.883   \n",
       "5154   nonexistent          1.1          93.994          -36.4      4.857   \n",
       "15580  nonexistent          1.4          93.918          -42.7      4.957   \n",
       "17611  nonexistent          1.4          93.918          -42.7      4.962   \n",
       "2703   nonexistent          1.1          93.994          -36.4      4.859   \n",
       "7113   nonexistent          1.1          93.994          -36.4      4.860   \n",
       "\n",
       "       nr.employed    y  \n",
       "27614       5195.8   no  \n",
       "34517       5099.1   no  \n",
       "34883       5099.1   no  \n",
       "40767       4963.6  yes  \n",
       "37196       5076.2  yes  \n",
       "5154        5191.0   no  \n",
       "15580       5228.1   no  \n",
       "17611       5228.1   no  \n",
       "2703        5191.0   no  \n",
       "7113        5191.0   no  \n",
       "\n",
       "[10 rows x 21 columns]"
      ]
     },
     "execution_count": 5,
     "metadata": {},
     "output_type": "execute_result"
    }
   ],
   "source": [
    "df.sample(10)"
   ]
  },
  {
   "cell_type": "markdown",
   "id": "3b5e5e49",
   "metadata": {},
   "source": [
    "- *View summary of dataset*\n",
    "\n",
    "The `info()` method is useful to get a quick description of the data, in particular the total number of rows, each attribute’s type, and the number of nonnull values."
   ]
  },
  {
   "cell_type": "code",
   "execution_count": 6,
   "id": "8b279119",
   "metadata": {},
   "outputs": [
    {
     "name": "stdout",
     "output_type": "stream",
     "text": [
      "<class 'pandas.core.frame.DataFrame'>\n",
      "RangeIndex: 41188 entries, 0 to 41187\n",
      "Data columns (total 21 columns):\n",
      " #   Column          Non-Null Count  Dtype  \n",
      "---  ------          --------------  -----  \n",
      " 0   age             41188 non-null  int64  \n",
      " 1   job             41188 non-null  object \n",
      " 2   marital         41188 non-null  object \n",
      " 3   education       41188 non-null  object \n",
      " 4   default         41188 non-null  object \n",
      " 5   housing         41188 non-null  object \n",
      " 6   loan            41188 non-null  object \n",
      " 7   contact         41188 non-null  object \n",
      " 8   month           41188 non-null  object \n",
      " 9   day_of_week     41188 non-null  object \n",
      " 10  duration        41188 non-null  int64  \n",
      " 11  campaign        41188 non-null  int64  \n",
      " 12  pdays           41188 non-null  int64  \n",
      " 13  previous        41188 non-null  int64  \n",
      " 14  poutcome        41188 non-null  object \n",
      " 15  emp.var.rate    41188 non-null  float64\n",
      " 16  cons.price.idx  41188 non-null  float64\n",
      " 17  cons.conf.idx   41188 non-null  float64\n",
      " 18  euribor3m       41188 non-null  float64\n",
      " 19  nr.employed     41188 non-null  float64\n",
      " 20  y               41188 non-null  object \n",
      "dtypes: float64(5), int64(5), object(11)\n",
      "memory usage: 6.6+ MB\n"
     ]
    }
   ],
   "source": [
    "df.info()"
   ]
  },
  {
   "cell_type": "markdown",
   "id": "d0d49824",
   "metadata": {},
   "source": [
    "We can see that the dataset contains mixture of categorical and numerical variables. \n",
    "Categorical variables have data type `object`. \n",
    "Numerical variables have data type `int64` and `float64`.\n",
    "Also, there are no missing values in the dataset. But We still explore it later to find any anomali on dataset."
   ]
  },
  {
   "cell_type": "markdown",
   "id": "3f688f96",
   "metadata": {},
   "source": [
    "- *View statistical properties of dataset `Numerical`*"
   ]
  },
  {
   "cell_type": "markdown",
   "id": "118c5bb4",
   "metadata": {},
   "source": [
    "The `describe()` helps us to view the statistical properties of numerical variables. It excludes character variables."
   ]
  },
  {
   "cell_type": "code",
   "execution_count": 7,
   "id": "4879d23b",
   "metadata": {},
   "outputs": [
    {
     "data": {
      "text/html": [
       "<div>\n",
       "<style scoped>\n",
       "    .dataframe tbody tr th:only-of-type {\n",
       "        vertical-align: middle;\n",
       "    }\n",
       "\n",
       "    .dataframe tbody tr th {\n",
       "        vertical-align: top;\n",
       "    }\n",
       "\n",
       "    .dataframe thead th {\n",
       "        text-align: right;\n",
       "    }\n",
       "</style>\n",
       "<table border=\"1\" class=\"dataframe\">\n",
       "  <thead>\n",
       "    <tr style=\"text-align: right;\">\n",
       "      <th></th>\n",
       "      <th>age</th>\n",
       "      <th>duration</th>\n",
       "      <th>campaign</th>\n",
       "      <th>pdays</th>\n",
       "      <th>previous</th>\n",
       "      <th>emp.var.rate</th>\n",
       "      <th>cons.price.idx</th>\n",
       "      <th>cons.conf.idx</th>\n",
       "      <th>euribor3m</th>\n",
       "      <th>nr.employed</th>\n",
       "    </tr>\n",
       "  </thead>\n",
       "  <tbody>\n",
       "    <tr>\n",
       "      <th>count</th>\n",
       "      <td>41188.00000</td>\n",
       "      <td>41188.000000</td>\n",
       "      <td>41188.000000</td>\n",
       "      <td>41188.000000</td>\n",
       "      <td>41188.000000</td>\n",
       "      <td>41188.000000</td>\n",
       "      <td>41188.000000</td>\n",
       "      <td>41188.000000</td>\n",
       "      <td>41188.000000</td>\n",
       "      <td>41188.000000</td>\n",
       "    </tr>\n",
       "    <tr>\n",
       "      <th>mean</th>\n",
       "      <td>40.02406</td>\n",
       "      <td>258.285010</td>\n",
       "      <td>2.567593</td>\n",
       "      <td>962.475454</td>\n",
       "      <td>0.172963</td>\n",
       "      <td>0.081886</td>\n",
       "      <td>93.575664</td>\n",
       "      <td>-40.502600</td>\n",
       "      <td>3.621291</td>\n",
       "      <td>5167.035911</td>\n",
       "    </tr>\n",
       "    <tr>\n",
       "      <th>std</th>\n",
       "      <td>10.42125</td>\n",
       "      <td>259.279249</td>\n",
       "      <td>2.770014</td>\n",
       "      <td>186.910907</td>\n",
       "      <td>0.494901</td>\n",
       "      <td>1.570960</td>\n",
       "      <td>0.578840</td>\n",
       "      <td>4.628198</td>\n",
       "      <td>1.734447</td>\n",
       "      <td>72.251528</td>\n",
       "    </tr>\n",
       "    <tr>\n",
       "      <th>min</th>\n",
       "      <td>17.00000</td>\n",
       "      <td>0.000000</td>\n",
       "      <td>1.000000</td>\n",
       "      <td>0.000000</td>\n",
       "      <td>0.000000</td>\n",
       "      <td>-3.400000</td>\n",
       "      <td>92.201000</td>\n",
       "      <td>-50.800000</td>\n",
       "      <td>0.634000</td>\n",
       "      <td>4963.600000</td>\n",
       "    </tr>\n",
       "    <tr>\n",
       "      <th>25%</th>\n",
       "      <td>32.00000</td>\n",
       "      <td>102.000000</td>\n",
       "      <td>1.000000</td>\n",
       "      <td>999.000000</td>\n",
       "      <td>0.000000</td>\n",
       "      <td>-1.800000</td>\n",
       "      <td>93.075000</td>\n",
       "      <td>-42.700000</td>\n",
       "      <td>1.344000</td>\n",
       "      <td>5099.100000</td>\n",
       "    </tr>\n",
       "    <tr>\n",
       "      <th>50%</th>\n",
       "      <td>38.00000</td>\n",
       "      <td>180.000000</td>\n",
       "      <td>2.000000</td>\n",
       "      <td>999.000000</td>\n",
       "      <td>0.000000</td>\n",
       "      <td>1.100000</td>\n",
       "      <td>93.749000</td>\n",
       "      <td>-41.800000</td>\n",
       "      <td>4.857000</td>\n",
       "      <td>5191.000000</td>\n",
       "    </tr>\n",
       "    <tr>\n",
       "      <th>75%</th>\n",
       "      <td>47.00000</td>\n",
       "      <td>319.000000</td>\n",
       "      <td>3.000000</td>\n",
       "      <td>999.000000</td>\n",
       "      <td>0.000000</td>\n",
       "      <td>1.400000</td>\n",
       "      <td>93.994000</td>\n",
       "      <td>-36.400000</td>\n",
       "      <td>4.961000</td>\n",
       "      <td>5228.100000</td>\n",
       "    </tr>\n",
       "    <tr>\n",
       "      <th>max</th>\n",
       "      <td>98.00000</td>\n",
       "      <td>4918.000000</td>\n",
       "      <td>56.000000</td>\n",
       "      <td>999.000000</td>\n",
       "      <td>7.000000</td>\n",
       "      <td>1.400000</td>\n",
       "      <td>94.767000</td>\n",
       "      <td>-26.900000</td>\n",
       "      <td>5.045000</td>\n",
       "      <td>5228.100000</td>\n",
       "    </tr>\n",
       "  </tbody>\n",
       "</table>\n",
       "</div>"
      ],
      "text/plain": [
       "               age      duration      campaign         pdays      previous  \\\n",
       "count  41188.00000  41188.000000  41188.000000  41188.000000  41188.000000   \n",
       "mean      40.02406    258.285010      2.567593    962.475454      0.172963   \n",
       "std       10.42125    259.279249      2.770014    186.910907      0.494901   \n",
       "min       17.00000      0.000000      1.000000      0.000000      0.000000   \n",
       "25%       32.00000    102.000000      1.000000    999.000000      0.000000   \n",
       "50%       38.00000    180.000000      2.000000    999.000000      0.000000   \n",
       "75%       47.00000    319.000000      3.000000    999.000000      0.000000   \n",
       "max       98.00000   4918.000000     56.000000    999.000000      7.000000   \n",
       "\n",
       "       emp.var.rate  cons.price.idx  cons.conf.idx     euribor3m   nr.employed  \n",
       "count  41188.000000    41188.000000   41188.000000  41188.000000  41188.000000  \n",
       "mean       0.081886       93.575664     -40.502600      3.621291   5167.035911  \n",
       "std        1.570960        0.578840       4.628198      1.734447     72.251528  \n",
       "min       -3.400000       92.201000     -50.800000      0.634000   4963.600000  \n",
       "25%       -1.800000       93.075000     -42.700000      1.344000   5099.100000  \n",
       "50%        1.100000       93.749000     -41.800000      4.857000   5191.000000  \n",
       "75%        1.400000       93.994000     -36.400000      4.961000   5228.100000  \n",
       "max        1.400000       94.767000     -26.900000      5.045000   5228.100000  "
      ]
     },
     "execution_count": 7,
     "metadata": {},
     "output_type": "execute_result"
    }
   ],
   "source": [
    "df.describe()"
   ]
  },
  {
   "cell_type": "markdown",
   "id": "91188a05",
   "metadata": {},
   "source": [
    "As we can see, there are several variables that have an abnormal distribution and there are anomalies in the `pdays` variable, that is because the max and quantile values of the variable is 999. This has actually been explained in the description of the dataset that the variable `pdays`, `999` means the client was not previously contacted."
   ]
  },
  {
   "cell_type": "markdown",
   "id": "30ccf651",
   "metadata": {},
   "source": [
    "- *View statistical properties of dataset `Categorical`*"
   ]
  },
  {
   "cell_type": "markdown",
   "id": "2f294b37",
   "metadata": {},
   "source": [
    "If we want to view the statistical properties of character variables use command `describe(include=['object'])` and you can transpose it."
   ]
  },
  {
   "cell_type": "code",
   "execution_count": 8,
   "id": "41b74162",
   "metadata": {},
   "outputs": [
    {
     "data": {
      "text/html": [
       "<div>\n",
       "<style scoped>\n",
       "    .dataframe tbody tr th:only-of-type {\n",
       "        vertical-align: middle;\n",
       "    }\n",
       "\n",
       "    .dataframe tbody tr th {\n",
       "        vertical-align: top;\n",
       "    }\n",
       "\n",
       "    .dataframe thead th {\n",
       "        text-align: right;\n",
       "    }\n",
       "</style>\n",
       "<table border=\"1\" class=\"dataframe\">\n",
       "  <thead>\n",
       "    <tr style=\"text-align: right;\">\n",
       "      <th></th>\n",
       "      <th>count</th>\n",
       "      <th>unique</th>\n",
       "      <th>top</th>\n",
       "      <th>freq</th>\n",
       "    </tr>\n",
       "  </thead>\n",
       "  <tbody>\n",
       "    <tr>\n",
       "      <th>job</th>\n",
       "      <td>41188</td>\n",
       "      <td>12</td>\n",
       "      <td>admin.</td>\n",
       "      <td>10422</td>\n",
       "    </tr>\n",
       "    <tr>\n",
       "      <th>marital</th>\n",
       "      <td>41188</td>\n",
       "      <td>4</td>\n",
       "      <td>married</td>\n",
       "      <td>24928</td>\n",
       "    </tr>\n",
       "    <tr>\n",
       "      <th>education</th>\n",
       "      <td>41188</td>\n",
       "      <td>8</td>\n",
       "      <td>university.degree</td>\n",
       "      <td>12168</td>\n",
       "    </tr>\n",
       "    <tr>\n",
       "      <th>default</th>\n",
       "      <td>41188</td>\n",
       "      <td>3</td>\n",
       "      <td>no</td>\n",
       "      <td>32588</td>\n",
       "    </tr>\n",
       "    <tr>\n",
       "      <th>housing</th>\n",
       "      <td>41188</td>\n",
       "      <td>3</td>\n",
       "      <td>yes</td>\n",
       "      <td>21576</td>\n",
       "    </tr>\n",
       "    <tr>\n",
       "      <th>loan</th>\n",
       "      <td>41188</td>\n",
       "      <td>3</td>\n",
       "      <td>no</td>\n",
       "      <td>33950</td>\n",
       "    </tr>\n",
       "    <tr>\n",
       "      <th>contact</th>\n",
       "      <td>41188</td>\n",
       "      <td>2</td>\n",
       "      <td>cellular</td>\n",
       "      <td>26144</td>\n",
       "    </tr>\n",
       "    <tr>\n",
       "      <th>month</th>\n",
       "      <td>41188</td>\n",
       "      <td>10</td>\n",
       "      <td>may</td>\n",
       "      <td>13769</td>\n",
       "    </tr>\n",
       "    <tr>\n",
       "      <th>day_of_week</th>\n",
       "      <td>41188</td>\n",
       "      <td>5</td>\n",
       "      <td>thu</td>\n",
       "      <td>8623</td>\n",
       "    </tr>\n",
       "    <tr>\n",
       "      <th>poutcome</th>\n",
       "      <td>41188</td>\n",
       "      <td>3</td>\n",
       "      <td>nonexistent</td>\n",
       "      <td>35563</td>\n",
       "    </tr>\n",
       "    <tr>\n",
       "      <th>y</th>\n",
       "      <td>41188</td>\n",
       "      <td>2</td>\n",
       "      <td>no</td>\n",
       "      <td>36548</td>\n",
       "    </tr>\n",
       "  </tbody>\n",
       "</table>\n",
       "</div>"
      ],
      "text/plain": [
       "             count unique                top   freq\n",
       "job          41188     12             admin.  10422\n",
       "marital      41188      4            married  24928\n",
       "education    41188      8  university.degree  12168\n",
       "default      41188      3                 no  32588\n",
       "housing      41188      3                yes  21576\n",
       "loan         41188      3                 no  33950\n",
       "contact      41188      2           cellular  26144\n",
       "month        41188     10                may  13769\n",
       "day_of_week  41188      5                thu   8623\n",
       "poutcome     41188      3        nonexistent  35563\n",
       "y            41188      2                 no  36548"
      ]
     },
     "execution_count": 8,
     "metadata": {},
     "output_type": "execute_result"
    }
   ],
   "source": [
    "df.describe(include=['object']).T"
   ]
  },
  {
   "cell_type": "markdown",
   "id": "a2d46674",
   "metadata": {},
   "source": [
    "- ***Univariate Analysis***\n",
    "\n",
    "**Explore target variable**"
   ]
  },
  {
   "cell_type": "markdown",
   "id": "82703da7",
   "metadata": {},
   "source": [
    "Firstly, I'll rename variable names column `y` to `subsrcibed` with command `rename()`."
   ]
  },
  {
   "cell_type": "code",
   "execution_count": 9,
   "id": "eef08ffa",
   "metadata": {},
   "outputs": [],
   "source": [
    "df = df.rename(columns={'y':'subscribed'})"
   ]
  },
  {
   "cell_type": "markdown",
   "id": "d33456e1",
   "metadata": {},
   "source": [
    "check for update column names"
   ]
  },
  {
   "cell_type": "code",
   "execution_count": 10,
   "id": "da8b0d4f",
   "metadata": {},
   "outputs": [
    {
     "data": {
      "text/plain": [
       "Index(['age', 'job', 'marital', 'education', 'default', 'housing', 'loan',\n",
       "       'contact', 'month', 'day_of_week', 'duration', 'campaign', 'pdays',\n",
       "       'previous', 'poutcome', 'emp.var.rate', 'cons.price.idx',\n",
       "       'cons.conf.idx', 'euribor3m', 'nr.employed', 'subscribed'],\n",
       "      dtype='object')"
      ]
     },
     "execution_count": 10,
     "metadata": {},
     "output_type": "execute_result"
    }
   ],
   "source": [
    "cols = df.columns\n",
    "cols"
   ]
  },
  {
   "cell_type": "code",
   "execution_count": 11,
   "id": "3dad39ab",
   "metadata": {},
   "outputs": [
    {
     "name": "stdout",
     "output_type": "stream",
     "text": [
      "Frequency distribution of values:\n",
      " no     36548\n",
      "yes     4640\n",
      "Name: subscribed, dtype: int64 \n",
      "Percentage of frequency distribution of values:\n",
      " no     0.887346\n",
      "yes    0.112654\n",
      "Name: subscribed, dtype: float64\n"
     ]
    }
   ],
   "source": [
    "print('Frequency distribution of values:\\n', df['subscribed'].value_counts(), \n",
    "      '\\nPercentage of frequency distribution of values:\\n', df['subscribed'].value_counts()/len(df))"
   ]
  },
  {
   "cell_type": "code",
   "execution_count": 12,
   "id": "21c7e49c",
   "metadata": {},
   "outputs": [
    {
     "data": {
      "image/png": "[encoded data removed]",
      "text/plain": [
       "<Figure size 576x288 with 1 Axes>"
      ]
     },
     "metadata": {
      "needs_background": "light"
     },
     "output_type": "display_data"
    }
   ],
   "source": [
    "f, ax = plt.subplots(figsize=(8, 4))\n",
    "ax = sns.countplot(y=\"subscribed\", data=df, palette=\"Set1\")\n",
    "plt.show()"
   ]
  },
  {
   "cell_type": "markdown",
   "id": "69694622",
   "metadata": {},
   "source": [
    "The number of unique values in `subscribed` variable is 2.\n",
    "\n",
    "The two unique values are No and Yes.\n",
    "\n",
    "Out of the total number of `subscribed` values, No appears 88.73% and Yes appears 11.27%.\n",
    "\n",
    "The univariate plot confirms our findings that :\n",
    "\n",
    "- The No variable have 36548 entries, and\n",
    "\n",
    "- The Yes variable have 4640 entries."
   ]
  },
  {
   "cell_type": "markdown",
   "id": "74dbb1f6",
   "metadata": {},
   "source": [
    "- ***Bivariate Analysis***\n",
    "\n",
    "**Types of variables**\n",
    "\n",
    "In this section, I segregate the dataset into categorical and numerical variables. There are a mixture of categorical and numerical variables in the dataset. Categorical variables have data type object. Numerical variables have data type int64 and float64.\n",
    "\n",
    "First of all, I will find categorical variables."
   ]
  },
  {
   "cell_type": "markdown",
   "id": "c550a7c5",
   "metadata": {},
   "source": [
    "**Explore categorical variables**"
   ]
  },
  {
   "cell_type": "code",
   "execution_count": 13,
   "id": "51b5a0ea",
   "metadata": {},
   "outputs": [
    {
     "name": "stdout",
     "output_type": "stream",
     "text": [
      "There are 11 categorical variables\n",
      "\n",
      "The categorical variables are : ['job', 'marital', 'education', 'default', 'housing', 'loan', 'contact', 'month', 'day_of_week', 'poutcome', 'subscribed']\n"
     ]
    }
   ],
   "source": [
    "# find categorical variables\n",
    "\n",
    "categorical = [var for var in df.columns if df[var].dtype=='O']\n",
    "\n",
    "print('There are {} categorical variables\\n'.format(len(categorical)))\n",
    "\n",
    "print('The categorical variables are :', categorical)"
   ]
  },
  {
   "cell_type": "code",
   "execution_count": 14,
   "id": "9dca15f7",
   "metadata": {},
   "outputs": [
    {
     "data": {
      "text/html": [
       "<div>\n",
       "<style scoped>\n",
       "    .dataframe tbody tr th:only-of-type {\n",
       "        vertical-align: middle;\n",
       "    }\n",
       "\n",
       "    .dataframe tbody tr th {\n",
       "        vertical-align: top;\n",
       "    }\n",
       "\n",
       "    .dataframe thead th {\n",
       "        text-align: right;\n",
       "    }\n",
       "</style>\n",
       "<table border=\"1\" class=\"dataframe\">\n",
       "  <thead>\n",
       "    <tr style=\"text-align: right;\">\n",
       "      <th></th>\n",
       "      <th>job</th>\n",
       "      <th>marital</th>\n",
       "      <th>education</th>\n",
       "      <th>default</th>\n",
       "      <th>housing</th>\n",
       "      <th>loan</th>\n",
       "      <th>contact</th>\n",
       "      <th>month</th>\n",
       "      <th>day_of_week</th>\n",
       "      <th>poutcome</th>\n",
       "      <th>subscribed</th>\n",
       "    </tr>\n",
       "  </thead>\n",
       "  <tbody>\n",
       "    <tr>\n",
       "      <th>38827</th>\n",
       "      <td>services</td>\n",
       "      <td>married</td>\n",
       "      <td>high.school</td>\n",
       "      <td>no</td>\n",
       "      <td>no</td>\n",
       "      <td>no</td>\n",
       "      <td>telephone</td>\n",
       "      <td>nov</td>\n",
       "      <td>fri</td>\n",
       "      <td>success</td>\n",
       "      <td>yes</td>\n",
       "    </tr>\n",
       "    <tr>\n",
       "      <th>13607</th>\n",
       "      <td>blue-collar</td>\n",
       "      <td>married</td>\n",
       "      <td>basic.4y</td>\n",
       "      <td>no</td>\n",
       "      <td>yes</td>\n",
       "      <td>no</td>\n",
       "      <td>cellular</td>\n",
       "      <td>jul</td>\n",
       "      <td>thu</td>\n",
       "      <td>nonexistent</td>\n",
       "      <td>no</td>\n",
       "    </tr>\n",
       "    <tr>\n",
       "      <th>31246</th>\n",
       "      <td>management</td>\n",
       "      <td>married</td>\n",
       "      <td>university.degree</td>\n",
       "      <td>no</td>\n",
       "      <td>no</td>\n",
       "      <td>no</td>\n",
       "      <td>cellular</td>\n",
       "      <td>may</td>\n",
       "      <td>wed</td>\n",
       "      <td>nonexistent</td>\n",
       "      <td>yes</td>\n",
       "    </tr>\n",
       "    <tr>\n",
       "      <th>29690</th>\n",
       "      <td>admin.</td>\n",
       "      <td>married</td>\n",
       "      <td>university.degree</td>\n",
       "      <td>no</td>\n",
       "      <td>yes</td>\n",
       "      <td>no</td>\n",
       "      <td>cellular</td>\n",
       "      <td>apr</td>\n",
       "      <td>mon</td>\n",
       "      <td>failure</td>\n",
       "      <td>no</td>\n",
       "    </tr>\n",
       "    <tr>\n",
       "      <th>31731</th>\n",
       "      <td>self-employed</td>\n",
       "      <td>married</td>\n",
       "      <td>basic.4y</td>\n",
       "      <td>no</td>\n",
       "      <td>no</td>\n",
       "      <td>no</td>\n",
       "      <td>cellular</td>\n",
       "      <td>may</td>\n",
       "      <td>thu</td>\n",
       "      <td>nonexistent</td>\n",
       "      <td>no</td>\n",
       "    </tr>\n",
       "    <tr>\n",
       "      <th>15450</th>\n",
       "      <td>services</td>\n",
       "      <td>single</td>\n",
       "      <td>professional.course</td>\n",
       "      <td>no</td>\n",
       "      <td>yes</td>\n",
       "      <td>no</td>\n",
       "      <td>cellular</td>\n",
       "      <td>jul</td>\n",
       "      <td>fri</td>\n",
       "      <td>nonexistent</td>\n",
       "      <td>yes</td>\n",
       "    </tr>\n",
       "    <tr>\n",
       "      <th>27645</th>\n",
       "      <td>technician</td>\n",
       "      <td>single</td>\n",
       "      <td>university.degree</td>\n",
       "      <td>no</td>\n",
       "      <td>no</td>\n",
       "      <td>no</td>\n",
       "      <td>cellular</td>\n",
       "      <td>nov</td>\n",
       "      <td>fri</td>\n",
       "      <td>nonexistent</td>\n",
       "      <td>no</td>\n",
       "    </tr>\n",
       "    <tr>\n",
       "      <th>25822</th>\n",
       "      <td>technician</td>\n",
       "      <td>married</td>\n",
       "      <td>basic.9y</td>\n",
       "      <td>no</td>\n",
       "      <td>no</td>\n",
       "      <td>no</td>\n",
       "      <td>cellular</td>\n",
       "      <td>nov</td>\n",
       "      <td>wed</td>\n",
       "      <td>nonexistent</td>\n",
       "      <td>no</td>\n",
       "    </tr>\n",
       "  </tbody>\n",
       "</table>\n",
       "</div>"
      ],
      "text/plain": [
       "                 job  marital            education default housing loan  \\\n",
       "38827       services  married          high.school      no      no   no   \n",
       "13607    blue-collar  married             basic.4y      no     yes   no   \n",
       "31246     management  married    university.degree      no      no   no   \n",
       "29690         admin.  married    university.degree      no     yes   no   \n",
       "31731  self-employed  married             basic.4y      no      no   no   \n",
       "15450       services   single  professional.course      no     yes   no   \n",
       "27645     technician   single    university.degree      no      no   no   \n",
       "25822     technician  married             basic.9y      no      no   no   \n",
       "\n",
       "         contact month day_of_week     poutcome subscribed  \n",
       "38827  telephone   nov         fri      success        yes  \n",
       "13607   cellular   jul         thu  nonexistent         no  \n",
       "31246   cellular   may         wed  nonexistent        yes  \n",
       "29690   cellular   apr         mon      failure         no  \n",
       "31731   cellular   may         thu  nonexistent         no  \n",
       "15450   cellular   jul         fri  nonexistent        yes  \n",
       "27645   cellular   nov         fri  nonexistent         no  \n",
       "25822   cellular   nov         wed  nonexistent         no  "
      ]
     },
     "execution_count": 14,
     "metadata": {},
     "output_type": "execute_result"
    }
   ],
   "source": [
    "df[categorical].sample(8)"
   ]
  },
  {
   "cell_type": "markdown",
   "id": "3bda5df2",
   "metadata": {},
   "source": [
    "There are 11 categorical variables and there are four binary categorical variables - `default`,`housing`,`loan` and `subscribed`.\n",
    "\n",
    "`subscribed` is the target variable."
   ]
  },
  {
   "cell_type": "code",
   "execution_count": 15,
   "id": "b9451c06",
   "metadata": {},
   "outputs": [
    {
     "data": {
      "text/plain": [
       "job            0\n",
       "marital        0\n",
       "education      0\n",
       "default        0\n",
       "housing        0\n",
       "loan           0\n",
       "contact        0\n",
       "month          0\n",
       "day_of_week    0\n",
       "poutcome       0\n",
       "subscribed     0\n",
       "dtype: int64"
      ]
     },
     "execution_count": 15,
     "metadata": {},
     "output_type": "execute_result"
    }
   ],
   "source": [
    "#view missing value\n",
    "df[categorical].isnull().sum()"
   ]
  },
  {
   "cell_type": "code",
   "execution_count": 16,
   "id": "acffd6c3",
   "metadata": {},
   "outputs": [
    {
     "name": "stdout",
     "output_type": "stream",
     "text": [
      "admin.           10422\n",
      "blue-collar       9254\n",
      "technician        6743\n",
      "services          3969\n",
      "management        2924\n",
      "retired           1720\n",
      "entrepreneur      1456\n",
      "self-employed     1421\n",
      "housemaid         1060\n",
      "unemployed        1014\n",
      "student            875\n",
      "unknown            330\n",
      "Name: job, dtype: int64\n",
      "married     24928\n",
      "single      11568\n",
      "divorced     4612\n",
      "unknown        80\n",
      "Name: marital, dtype: int64\n",
      "university.degree      12168\n",
      "high.school             9515\n",
      "basic.9y                6045\n",
      "professional.course     5243\n",
      "basic.4y                4176\n",
      "basic.6y                2292\n",
      "unknown                 1731\n",
      "illiterate                18\n",
      "Name: education, dtype: int64\n",
      "no         32588\n",
      "unknown     8597\n",
      "yes            3\n",
      "Name: default, dtype: int64\n",
      "yes        21576\n",
      "no         18622\n",
      "unknown      990\n",
      "Name: housing, dtype: int64\n",
      "no         33950\n",
      "yes         6248\n",
      "unknown      990\n",
      "Name: loan, dtype: int64\n",
      "cellular     26144\n",
      "telephone    15044\n",
      "Name: contact, dtype: int64\n",
      "may    13769\n",
      "jul     7174\n",
      "aug     6178\n",
      "jun     5318\n",
      "nov     4101\n",
      "apr     2632\n",
      "oct      718\n",
      "sep      570\n",
      "mar      546\n",
      "dec      182\n",
      "Name: month, dtype: int64\n",
      "thu    8623\n",
      "mon    8514\n",
      "wed    8134\n",
      "tue    8090\n",
      "fri    7827\n",
      "Name: day_of_week, dtype: int64\n",
      "nonexistent    35563\n",
      "failure         4252\n",
      "success         1373\n",
      "Name: poutcome, dtype: int64\n",
      "no     36548\n",
      "yes     4640\n",
      "Name: subscribed, dtype: int64\n"
     ]
    }
   ],
   "source": [
    "# view frequency of categorical variables\n",
    "\n",
    "for var in categorical: \n",
    "    \n",
    "    print(df[var].value_counts())"
   ]
  },
  {
   "cell_type": "code",
   "execution_count": 17,
   "id": "f5d52abb",
   "metadata": {},
   "outputs": [
    {
     "name": "stdout",
     "output_type": "stream",
     "text": [
      "admin.           0.253035\n",
      "blue-collar      0.224677\n",
      "technician       0.163713\n",
      "services         0.096363\n",
      "management       0.070992\n",
      "retired          0.041760\n",
      "entrepreneur     0.035350\n",
      "self-employed    0.034500\n",
      "housemaid        0.025736\n",
      "unemployed       0.024619\n",
      "student          0.021244\n",
      "unknown          0.008012\n",
      "Name: job, dtype: float64\n",
      "married     0.605225\n",
      "single      0.280859\n",
      "divorced    0.111974\n",
      "unknown     0.001942\n",
      "Name: marital, dtype: float64\n",
      "university.degree      0.295426\n",
      "high.school            0.231014\n",
      "basic.9y               0.146766\n",
      "professional.course    0.127294\n",
      "basic.4y               0.101389\n",
      "basic.6y               0.055647\n",
      "unknown                0.042027\n",
      "illiterate             0.000437\n",
      "Name: education, dtype: float64\n",
      "no         0.791201\n",
      "unknown    0.208726\n",
      "yes        0.000073\n",
      "Name: default, dtype: float64\n",
      "yes        0.523842\n",
      "no         0.452122\n",
      "unknown    0.024036\n",
      "Name: housing, dtype: float64\n",
      "no         0.824269\n",
      "yes        0.151695\n",
      "unknown    0.024036\n",
      "Name: loan, dtype: float64\n",
      "cellular     0.634748\n",
      "telephone    0.365252\n",
      "Name: contact, dtype: float64\n",
      "may    0.334296\n",
      "jul    0.174177\n",
      "aug    0.149995\n",
      "jun    0.129115\n",
      "nov    0.099568\n",
      "apr    0.063902\n",
      "oct    0.017432\n",
      "sep    0.013839\n",
      "mar    0.013256\n",
      "dec    0.004419\n",
      "Name: month, dtype: float64\n",
      "thu    0.209357\n",
      "mon    0.206711\n",
      "wed    0.197485\n",
      "tue    0.196416\n",
      "fri    0.190031\n",
      "Name: day_of_week, dtype: float64\n",
      "nonexistent    0.863431\n",
      "failure        0.103234\n",
      "success        0.033335\n",
      "Name: poutcome, dtype: float64\n",
      "no     0.887346\n",
      "yes    0.112654\n",
      "Name: subscribed, dtype: float64\n"
     ]
    }
   ],
   "source": [
    "# view frequency distribution of categorical variables\n",
    "\n",
    "for var in categorical: \n",
    "    \n",
    "    print(df[var].value_counts()/np.float(len(df)))"
   ]
  },
  {
   "cell_type": "code",
   "execution_count": 18,
   "id": "d8f6eacc",
   "metadata": {},
   "outputs": [
    {
     "name": "stdout",
     "output_type": "stream",
     "text": [
      "job  contains  12  labels\n",
      "marital  contains  4  labels\n",
      "education  contains  8  labels\n",
      "default  contains  3  labels\n",
      "housing  contains  3  labels\n",
      "loan  contains  3  labels\n",
      "contact  contains  2  labels\n",
      "month  contains  10  labels\n",
      "day_of_week  contains  5  labels\n",
      "poutcome  contains  3  labels\n",
      "subscribed  contains  2  labels\n"
     ]
    }
   ],
   "source": [
    "# check for cardinality in categorical variables\n",
    "\n",
    "for var in categorical:\n",
    "    \n",
    "    print(var, ' contains ', len(df[var].unique()), ' labels')"
   ]
  },
  {
   "cell_type": "markdown",
   "id": "8ed63991",
   "metadata": {},
   "source": [
    "**Explore Numerical Variable**"
   ]
  },
  {
   "cell_type": "code",
   "execution_count": 19,
   "id": "f248e57f",
   "metadata": {},
   "outputs": [
    {
     "name": "stdout",
     "output_type": "stream",
     "text": [
      "There are 10 numerical variables\n",
      "\n",
      "The numerical variables are : ['age', 'duration', 'campaign', 'pdays', 'previous', 'emp.var.rate', 'cons.price.idx', 'cons.conf.idx', 'euribor3m', 'nr.employed']\n"
     ]
    }
   ],
   "source": [
    "# find numerical variables\n",
    "\n",
    "numerical = [var for var in df.columns if df[var].dtype!='O']\n",
    "\n",
    "print('There are {} numerical variables\\n'.format(len(numerical)))\n",
    "\n",
    "print('The numerical variables are :', numerical)"
   ]
  },
  {
   "cell_type": "code",
   "execution_count": 20,
   "id": "824deaf0",
   "metadata": {},
   "outputs": [
    {
     "data": {
      "text/html": [
       "<div>\n",
       "<style scoped>\n",
       "    .dataframe tbody tr th:only-of-type {\n",
       "        vertical-align: middle;\n",
       "    }\n",
       "\n",
       "    .dataframe tbody tr th {\n",
       "        vertical-align: top;\n",
       "    }\n",
       "\n",
       "    .dataframe thead th {\n",
       "        text-align: right;\n",
       "    }\n",
       "</style>\n",
       "<table border=\"1\" class=\"dataframe\">\n",
       "  <thead>\n",
       "    <tr style=\"text-align: right;\">\n",
       "      <th></th>\n",
       "      <th>age</th>\n",
       "      <th>duration</th>\n",
       "      <th>campaign</th>\n",
       "      <th>pdays</th>\n",
       "      <th>previous</th>\n",
       "      <th>emp.var.rate</th>\n",
       "      <th>cons.price.idx</th>\n",
       "      <th>cons.conf.idx</th>\n",
       "      <th>euribor3m</th>\n",
       "      <th>nr.employed</th>\n",
       "    </tr>\n",
       "  </thead>\n",
       "  <tbody>\n",
       "    <tr>\n",
       "      <th>13579</th>\n",
       "      <td>30</td>\n",
       "      <td>140</td>\n",
       "      <td>2</td>\n",
       "      <td>999</td>\n",
       "      <td>0</td>\n",
       "      <td>1.4</td>\n",
       "      <td>93.918</td>\n",
       "      <td>-42.7</td>\n",
       "      <td>4.963</td>\n",
       "      <td>5228.1</td>\n",
       "    </tr>\n",
       "    <tr>\n",
       "      <th>3264</th>\n",
       "      <td>41</td>\n",
       "      <td>500</td>\n",
       "      <td>1</td>\n",
       "      <td>999</td>\n",
       "      <td>0</td>\n",
       "      <td>1.1</td>\n",
       "      <td>93.994</td>\n",
       "      <td>-36.4</td>\n",
       "      <td>4.860</td>\n",
       "      <td>5191.0</td>\n",
       "    </tr>\n",
       "    <tr>\n",
       "      <th>19994</th>\n",
       "      <td>50</td>\n",
       "      <td>455</td>\n",
       "      <td>4</td>\n",
       "      <td>999</td>\n",
       "      <td>0</td>\n",
       "      <td>1.4</td>\n",
       "      <td>93.444</td>\n",
       "      <td>-36.1</td>\n",
       "      <td>4.966</td>\n",
       "      <td>5228.1</td>\n",
       "    </tr>\n",
       "    <tr>\n",
       "      <th>34724</th>\n",
       "      <td>30</td>\n",
       "      <td>72</td>\n",
       "      <td>7</td>\n",
       "      <td>999</td>\n",
       "      <td>0</td>\n",
       "      <td>-1.8</td>\n",
       "      <td>92.893</td>\n",
       "      <td>-46.2</td>\n",
       "      <td>1.266</td>\n",
       "      <td>5099.1</td>\n",
       "    </tr>\n",
       "    <tr>\n",
       "      <th>39239</th>\n",
       "      <td>55</td>\n",
       "      <td>106</td>\n",
       "      <td>2</td>\n",
       "      <td>999</td>\n",
       "      <td>1</td>\n",
       "      <td>-1.8</td>\n",
       "      <td>93.369</td>\n",
       "      <td>-34.8</td>\n",
       "      <td>0.651</td>\n",
       "      <td>5008.7</td>\n",
       "    </tr>\n",
       "    <tr>\n",
       "      <th>11093</th>\n",
       "      <td>46</td>\n",
       "      <td>172</td>\n",
       "      <td>3</td>\n",
       "      <td>999</td>\n",
       "      <td>0</td>\n",
       "      <td>1.4</td>\n",
       "      <td>94.465</td>\n",
       "      <td>-41.8</td>\n",
       "      <td>4.961</td>\n",
       "      <td>5228.1</td>\n",
       "    </tr>\n",
       "    <tr>\n",
       "      <th>14744</th>\n",
       "      <td>49</td>\n",
       "      <td>221</td>\n",
       "      <td>1</td>\n",
       "      <td>999</td>\n",
       "      <td>0</td>\n",
       "      <td>1.4</td>\n",
       "      <td>93.918</td>\n",
       "      <td>-42.7</td>\n",
       "      <td>4.957</td>\n",
       "      <td>5228.1</td>\n",
       "    </tr>\n",
       "    <tr>\n",
       "      <th>24921</th>\n",
       "      <td>36</td>\n",
       "      <td>99</td>\n",
       "      <td>1</td>\n",
       "      <td>999</td>\n",
       "      <td>1</td>\n",
       "      <td>-0.1</td>\n",
       "      <td>93.200</td>\n",
       "      <td>-42.0</td>\n",
       "      <td>4.153</td>\n",
       "      <td>5195.8</td>\n",
       "    </tr>\n",
       "  </tbody>\n",
       "</table>\n",
       "</div>"
      ],
      "text/plain": [
       "       age  duration  campaign  pdays  previous  emp.var.rate  cons.price.idx  \\\n",
       "13579   30       140         2    999         0           1.4          93.918   \n",
       "3264    41       500         1    999         0           1.1          93.994   \n",
       "19994   50       455         4    999         0           1.4          93.444   \n",
       "34724   30        72         7    999         0          -1.8          92.893   \n",
       "39239   55       106         2    999         1          -1.8          93.369   \n",
       "11093   46       172         3    999         0           1.4          94.465   \n",
       "14744   49       221         1    999         0           1.4          93.918   \n",
       "24921   36        99         1    999         1          -0.1          93.200   \n",
       "\n",
       "       cons.conf.idx  euribor3m  nr.employed  \n",
       "13579          -42.7      4.963       5228.1  \n",
       "3264           -36.4      4.860       5191.0  \n",
       "19994          -36.1      4.966       5228.1  \n",
       "34724          -46.2      1.266       5099.1  \n",
       "39239          -34.8      0.651       5008.7  \n",
       "11093          -41.8      4.961       5228.1  \n",
       "14744          -42.7      4.957       5228.1  \n",
       "24921          -42.0      4.153       5195.8  "
      ]
     },
     "execution_count": 20,
     "metadata": {},
     "output_type": "execute_result"
    }
   ],
   "source": [
    "df[numerical].sample(8)"
   ]
  },
  {
   "cell_type": "code",
   "execution_count": 21,
   "id": "c8280908",
   "metadata": {},
   "outputs": [
    {
     "name": "stdout",
     "output_type": "stream",
     "text": [
      "           age  duration  campaign    pdays  previous  emp.var.rate  \\\n",
      "count  41188.0   41188.0   41188.0  41188.0   41188.0       41188.0   \n",
      "mean      40.0     258.0       3.0    962.0       0.0           0.0   \n",
      "std       10.0     259.0       3.0    187.0       0.0           2.0   \n",
      "min       17.0       0.0       1.0      0.0       0.0          -3.0   \n",
      "25%       32.0     102.0       1.0    999.0       0.0          -2.0   \n",
      "50%       38.0     180.0       2.0    999.0       0.0           1.0   \n",
      "75%       47.0     319.0       3.0    999.0       0.0           1.0   \n",
      "max       98.0    4918.0      56.0    999.0       7.0           1.0   \n",
      "\n",
      "       cons.price.idx  cons.conf.idx  euribor3m  nr.employed  \n",
      "count         41188.0        41188.0    41188.0      41188.0  \n",
      "mean             94.0          -41.0        4.0       5167.0  \n",
      "std               1.0            5.0        2.0         72.0  \n",
      "min              92.0          -51.0        1.0       4964.0  \n",
      "25%              93.0          -43.0        1.0       5099.0  \n",
      "50%              94.0          -42.0        5.0       5191.0  \n",
      "75%              94.0          -36.0        5.0       5228.0  \n",
      "max              95.0          -27.0        5.0       5228.0  \n"
     ]
    }
   ],
   "source": [
    "print(round(df[numerical].describe()))"
   ]
  },
  {
   "cell_type": "markdown",
   "id": "d42fb5fb",
   "metadata": {},
   "source": [
    "There are 10 numerical variables and all of the numerical variables are of continuous type. We can see value in `pdays` are anomalies, so we need to cleaning the values. \n",
    "\n",
    "On closer inspection, we can see that the `age`, `duration`and `campaign` columns may contain outliers.\n",
    "\n",
    "I will draw boxplots to visualise outliers in the above variables."
   ]
  },
  {
   "cell_type": "code",
   "execution_count": 22,
   "id": "2d1af6db",
   "metadata": {},
   "outputs": [
    {
     "data": {
      "text/plain": [
       "Text(0, 0.5, 'Previous')"
      ]
     },
     "execution_count": 22,
     "metadata": {},
     "output_type": "execute_result"
    },
    {
     "data": {
      "image/png": "[encoded data removed]",
      "text/plain": [
       "<Figure size 1080x720 with 6 Axes>"
      ]
     },
     "metadata": {
      "needs_background": "light"
     },
     "output_type": "display_data"
    }
   ],
   "source": [
    "# draw boxplots to visualize outliers\n",
    "\n",
    "plt.figure(figsize=(15,10))\n",
    "\n",
    "\n",
    "plt.subplot(2, 3, 1)\n",
    "fig = df.boxplot(column='age')\n",
    "fig.set_title('')\n",
    "fig.set_ylabel('Age')\n",
    "\n",
    "\n",
    "plt.subplot(2, 3, 2)\n",
    "fig = df.boxplot(column='duration')\n",
    "fig.set_title('')\n",
    "fig.set_ylabel('Duration')\n",
    "\n",
    "\n",
    "plt.subplot(2, 3, 3)\n",
    "fig = df.boxplot(column='campaign')\n",
    "fig.set_title('')\n",
    "fig.set_ylabel('Campaign')\n",
    "\n",
    "\n",
    "plt.subplot(2, 3, 4)\n",
    "fig = df.boxplot(column='cons.conf.idx')\n",
    "fig.set_title('')\n",
    "fig.set_ylabel('Consumer Confident Index')\n",
    "\n",
    "plt.subplot(2, 3, 5)\n",
    "fig = df.boxplot(column='pdays')\n",
    "fig.set_title('')\n",
    "fig.set_ylabel('Pdays')\n",
    "\n",
    "plt.subplot(2, 3, 6)\n",
    "fig = df.boxplot(column='previous')\n",
    "fig.set_title('')\n",
    "fig.set_ylabel('Previous')"
   ]
  },
  {
   "cell_type": "code",
   "execution_count": 23,
   "id": "f6a27b6e",
   "metadata": {},
   "outputs": [
    {
     "name": "stdout",
     "output_type": "stream",
     "text": [
      "Age outliers are values < 9.5 or > 69.5\n"
     ]
    }
   ],
   "source": [
    "IQR = df.age.quantile(0.75) - df.age.quantile(0.25)\n",
    "Lower_fence = df.age.quantile(0.25) - (IQR * 1.5)\n",
    "Upper_fence = df.age.quantile(0.75) + (IQR * 1.5)\n",
    "print('Age outliers are values < {lowerboundary} or > {upperboundary}'.format(lowerboundary=Lower_fence, upperboundary=Upper_fence))"
   ]
  },
  {
   "cell_type": "code",
   "execution_count": 24,
   "id": "aa9602af",
   "metadata": {},
   "outputs": [
    {
     "data": {
      "text/plain": [
       "(469, 21)"
      ]
     },
     "execution_count": 24,
     "metadata": {},
     "output_type": "execute_result"
    }
   ],
   "source": [
    "df[df['age']>69.5].shape"
   ]
  },
  {
   "cell_type": "code",
   "execution_count": 25,
   "id": "6fe2264b",
   "metadata": {},
   "outputs": [
    {
     "name": "stdout",
     "output_type": "stream",
     "text": [
      "Duration outliers are values < -549.0 or > 970.0\n"
     ]
    }
   ],
   "source": [
    "IQR = df.duration.quantile(0.75) - df.duration.quantile(0.25)\n",
    "Lower_fence = df.duration.quantile(0.25) - (IQR * 3)\n",
    "Upper_fence = df.duration.quantile(0.75) + (IQR * 3)\n",
    "print('Duration outliers are values < {lowerboundary} or > {upperboundary}'.format(lowerboundary=Lower_fence, upperboundary=Upper_fence))"
   ]
  },
  {
   "cell_type": "code",
   "execution_count": 26,
   "id": "921d826c",
   "metadata": {},
   "outputs": [
    {
     "data": {
      "text/plain": [
       "(1043, 21)"
      ]
     },
     "execution_count": 26,
     "metadata": {},
     "output_type": "execute_result"
    }
   ],
   "source": [
    "df[df['duration']>970].shape"
   ]
  },
  {
   "cell_type": "code",
   "execution_count": 27,
   "id": "787a6e16",
   "metadata": {},
   "outputs": [
    {
     "name": "stdout",
     "output_type": "stream",
     "text": [
      "Campaign outliers are values < -5.0 or > 9.0\n"
     ]
    }
   ],
   "source": [
    "IQR = df.campaign.quantile(0.75) - df.campaign.quantile(0.25)\n",
    "Lower_fence = df.campaign.quantile(0.25) - (IQR * 3)\n",
    "Upper_fence = df.campaign.quantile(0.75) + (IQR * 3)\n",
    "print('Campaign outliers are values < {lowerboundary} or > {upperboundary}'.format(lowerboundary=Lower_fence, upperboundary=Upper_fence))"
   ]
  },
  {
   "cell_type": "code",
   "execution_count": 28,
   "id": "5537b5fa",
   "metadata": {},
   "outputs": [
    {
     "data": {
      "text/plain": [
       "(1094, 21)"
      ]
     },
     "execution_count": 28,
     "metadata": {},
     "output_type": "execute_result"
    }
   ],
   "source": [
    "df[df['campaign']>9.0].shape"
   ]
  },
  {
   "cell_type": "code",
   "execution_count": 29,
   "id": "cd92813c",
   "metadata": {},
   "outputs": [
    {
     "data": {
      "text/plain": [
       "<matplotlib.legend.Legend at 0x7fd57a809fd0>"
      ]
     },
     "execution_count": 29,
     "metadata": {},
     "output_type": "execute_result"
    },
    {
     "data": {
      "image/png": "[encoded data removed]",
      "text/plain": [
       "<Figure size 1800x720 with 3 Axes>"
      ]
     },
     "metadata": {
      "needs_background": "light"
     },
     "output_type": "display_data"
    }
   ],
   "source": [
    "# draw histogram for distribution of variables subscribed or didn't\n",
    "\n",
    "plt.figure(figsize=(25,10))\n",
    "\n",
    "plt.subplot(1,3,1)\n",
    "plt.hist(x = [df[df['subscribed']=='yes']['age'], df[df['subscribed']=='no']['previous']], \n",
    "         stacked=True, color = ['g','r'],label = ['Subsribed','Not Subsribed'])\n",
    "plt.title('Previous Histogram by Subscribed')\n",
    "plt.xlabel('Previous')\n",
    "plt.ylabel('# of Customers')\n",
    "plt.legend()\n",
    "\n",
    "plt.subplot(1,3,2)\n",
    "plt.hist(x = [df[df['subscribed']=='yes']['age'], df[df['subscribed']=='no']['duration']], \n",
    "         stacked=True, color = ['g','r'],label = ['Subsribed','Not Subsribed'])\n",
    "plt.title('Duration Histogram by Subscribed')\n",
    "plt.xlabel('Duration')\n",
    "plt.ylabel('# of Customers')\n",
    "plt.legend()\n",
    "\n",
    "plt.subplot(1,3,3)\n",
    "plt.hist(x = [df[df['subscribed']=='yes']['age'], df[df['subscribed']=='no']['campaign']], \n",
    "         stacked=True, color = ['g','r'],label = ['Subsribed','Not Subsribed'])\n",
    "plt.title('Campaign Histogram by Subcsribed')\n",
    "plt.xlabel('Campaign')\n",
    "plt.ylabel('# of Customers')\n",
    "plt.legend()"
   ]
  },
  {
   "cell_type": "code",
   "execution_count": 30,
   "id": "1eca097c",
   "metadata": {},
   "outputs": [
    {
     "data": {
      "text/plain": [
       "<seaborn.axisgrid.FacetGrid at 0x7fd57ac9d4c0>"
      ]
     },
     "execution_count": 30,
     "metadata": {},
     "output_type": "execute_result"
    },
    {
     "data": {
      "image/png": "[encoded data removed]",
      "text/plain": [
       "<Figure size 926.375x216 with 1 Axes>"
      ]
     },
     "metadata": {
      "needs_background": "light"
     },
     "output_type": "display_data"
    }
   ],
   "source": [
    "# plot distribution of age of consumers who subsrcibed or didn't \n",
    "vs = sns.FacetGrid(df, hue='subscribed', aspect=4)\n",
    "vs.map(sns.kdeplot, 'age', shade=True)\n",
    "vs.set(xlim=(0,df['age'].max()))\n",
    "vs.add_legend()"
   ]
  },
  {
   "cell_type": "code",
   "execution_count": 31,
   "id": "925cd0ab",
   "metadata": {},
   "outputs": [
    {
     "data": {
      "text/plain": [
       "<seaborn.axisgrid.FacetGrid at 0x7fd57a8c6880>"
      ]
     },
     "execution_count": 31,
     "metadata": {},
     "output_type": "execute_result"
    },
    {
     "data": {
      "image/png": "[encoded data removed]",
      "text/plain": [
       "<Figure size 926.375x216 with 1 Axes>"
      ]
     },
     "metadata": {
      "needs_background": "light"
     },
     "output_type": "display_data"
    }
   ],
   "source": [
    "# plot distribution of campaign of consumers who subsrcibed or didn't \n",
    "vs = sns.FacetGrid(df, hue='subscribed', aspect=4)\n",
    "vs.map(sns.kdeplot, 'campaign', shade=True)\n",
    "vs.set(xlim=(0,df['campaign'].max()))\n",
    "vs.add_legend()"
   ]
  },
  {
   "cell_type": "code",
   "execution_count": 32,
   "id": "5ef76382",
   "metadata": {},
   "outputs": [
    {
     "data": {
      "text/plain": [
       "<seaborn.axisgrid.FacetGrid at 0x7fd57b9f6730>"
      ]
     },
     "execution_count": 32,
     "metadata": {},
     "output_type": "execute_result"
    },
    {
     "data": {
      "image/png": "[encoded data removed]",
      "text/plain": [
       "<Figure size 926.375x216 with 1 Axes>"
      ]
     },
     "metadata": {
      "needs_background": "light"
     },
     "output_type": "display_data"
    }
   ],
   "source": [
    "# plot distribution of duration of consumers who subsrcibed or didn't \n",
    "vs = sns.FacetGrid(df, hue='subscribed', aspect=4)\n",
    "vs.map(sns.kdeplot, 'duration', shade=True)\n",
    "vs.set(xlim=(0,df['duration'].max()))\n",
    "vs.add_legend()"
   ]
  },
  {
   "cell_type": "markdown",
   "id": "173711f8",
   "metadata": {},
   "source": [
    "- ***Multivariate Analysis***"
   ]
  },
  {
   "cell_type": "markdown",
   "id": "1bbe2745",
   "metadata": {},
   "source": [
    "An important step in EDA is to discover patterns and relationships between variables in the dataset. I will use heat map and pair plot to discover the patterns and relationships in the dataset. First of all, I will draw a heat map."
   ]
  },
  {
   "cell_type": "code",
   "execution_count": 33,
   "id": "f827d06a",
   "metadata": {},
   "outputs": [
    {
     "data": {
      "text/html": [
       "<div>\n",
       "<style scoped>\n",
       "    .dataframe tbody tr th:only-of-type {\n",
       "        vertical-align: middle;\n",
       "    }\n",
       "\n",
       "    .dataframe tbody tr th {\n",
       "        vertical-align: top;\n",
       "    }\n",
       "\n",
       "    .dataframe thead th {\n",
       "        text-align: right;\n",
       "    }\n",
       "</style>\n",
       "<table border=\"1\" class=\"dataframe\">\n",
       "  <thead>\n",
       "    <tr style=\"text-align: right;\">\n",
       "      <th></th>\n",
       "      <th>age</th>\n",
       "      <th>duration</th>\n",
       "      <th>campaign</th>\n",
       "      <th>pdays</th>\n",
       "      <th>previous</th>\n",
       "      <th>emp.var.rate</th>\n",
       "      <th>cons.price.idx</th>\n",
       "      <th>cons.conf.idx</th>\n",
       "      <th>euribor3m</th>\n",
       "      <th>nr.employed</th>\n",
       "    </tr>\n",
       "  </thead>\n",
       "  <tbody>\n",
       "    <tr>\n",
       "      <th>age</th>\n",
       "      <td>1.000000</td>\n",
       "      <td>-0.000866</td>\n",
       "      <td>0.004594</td>\n",
       "      <td>-0.034369</td>\n",
       "      <td>0.024365</td>\n",
       "      <td>-0.000371</td>\n",
       "      <td>0.000857</td>\n",
       "      <td>0.129372</td>\n",
       "      <td>0.010767</td>\n",
       "      <td>-0.017725</td>\n",
       "    </tr>\n",
       "    <tr>\n",
       "      <th>duration</th>\n",
       "      <td>-0.000866</td>\n",
       "      <td>1.000000</td>\n",
       "      <td>-0.071699</td>\n",
       "      <td>-0.047577</td>\n",
       "      <td>0.020640</td>\n",
       "      <td>-0.027968</td>\n",
       "      <td>0.005312</td>\n",
       "      <td>-0.008173</td>\n",
       "      <td>-0.032897</td>\n",
       "      <td>-0.044703</td>\n",
       "    </tr>\n",
       "    <tr>\n",
       "      <th>campaign</th>\n",
       "      <td>0.004594</td>\n",
       "      <td>-0.071699</td>\n",
       "      <td>1.000000</td>\n",
       "      <td>0.052584</td>\n",
       "      <td>-0.079141</td>\n",
       "      <td>0.150754</td>\n",
       "      <td>0.127836</td>\n",
       "      <td>-0.013733</td>\n",
       "      <td>0.135133</td>\n",
       "      <td>0.144095</td>\n",
       "    </tr>\n",
       "    <tr>\n",
       "      <th>pdays</th>\n",
       "      <td>-0.034369</td>\n",
       "      <td>-0.047577</td>\n",
       "      <td>0.052584</td>\n",
       "      <td>1.000000</td>\n",
       "      <td>-0.587514</td>\n",
       "      <td>0.271004</td>\n",
       "      <td>0.078889</td>\n",
       "      <td>-0.091342</td>\n",
       "      <td>0.296899</td>\n",
       "      <td>0.372605</td>\n",
       "    </tr>\n",
       "    <tr>\n",
       "      <th>previous</th>\n",
       "      <td>0.024365</td>\n",
       "      <td>0.020640</td>\n",
       "      <td>-0.079141</td>\n",
       "      <td>-0.587514</td>\n",
       "      <td>1.000000</td>\n",
       "      <td>-0.420489</td>\n",
       "      <td>-0.203130</td>\n",
       "      <td>-0.050936</td>\n",
       "      <td>-0.454494</td>\n",
       "      <td>-0.501333</td>\n",
       "    </tr>\n",
       "    <tr>\n",
       "      <th>emp.var.rate</th>\n",
       "      <td>-0.000371</td>\n",
       "      <td>-0.027968</td>\n",
       "      <td>0.150754</td>\n",
       "      <td>0.271004</td>\n",
       "      <td>-0.420489</td>\n",
       "      <td>1.000000</td>\n",
       "      <td>0.775334</td>\n",
       "      <td>0.196041</td>\n",
       "      <td>0.972245</td>\n",
       "      <td>0.906970</td>\n",
       "    </tr>\n",
       "    <tr>\n",
       "      <th>cons.price.idx</th>\n",
       "      <td>0.000857</td>\n",
       "      <td>0.005312</td>\n",
       "      <td>0.127836</td>\n",
       "      <td>0.078889</td>\n",
       "      <td>-0.203130</td>\n",
       "      <td>0.775334</td>\n",
       "      <td>1.000000</td>\n",
       "      <td>0.058986</td>\n",
       "      <td>0.688230</td>\n",
       "      <td>0.522034</td>\n",
       "    </tr>\n",
       "    <tr>\n",
       "      <th>cons.conf.idx</th>\n",
       "      <td>0.129372</td>\n",
       "      <td>-0.008173</td>\n",
       "      <td>-0.013733</td>\n",
       "      <td>-0.091342</td>\n",
       "      <td>-0.050936</td>\n",
       "      <td>0.196041</td>\n",
       "      <td>0.058986</td>\n",
       "      <td>1.000000</td>\n",
       "      <td>0.277686</td>\n",
       "      <td>0.100513</td>\n",
       "    </tr>\n",
       "    <tr>\n",
       "      <th>euribor3m</th>\n",
       "      <td>0.010767</td>\n",
       "      <td>-0.032897</td>\n",
       "      <td>0.135133</td>\n",
       "      <td>0.296899</td>\n",
       "      <td>-0.454494</td>\n",
       "      <td>0.972245</td>\n",
       "      <td>0.688230</td>\n",
       "      <td>0.277686</td>\n",
       "      <td>1.000000</td>\n",
       "      <td>0.945154</td>\n",
       "    </tr>\n",
       "    <tr>\n",
       "      <th>nr.employed</th>\n",
       "      <td>-0.017725</td>\n",
       "      <td>-0.044703</td>\n",
       "      <td>0.144095</td>\n",
       "      <td>0.372605</td>\n",
       "      <td>-0.501333</td>\n",
       "      <td>0.906970</td>\n",
       "      <td>0.522034</td>\n",
       "      <td>0.100513</td>\n",
       "      <td>0.945154</td>\n",
       "      <td>1.000000</td>\n",
       "    </tr>\n",
       "  </tbody>\n",
       "</table>\n",
       "</div>"
      ],
      "text/plain": [
       "                     age  duration  campaign     pdays  previous  \\\n",
       "age             1.000000 -0.000866  0.004594 -0.034369  0.024365   \n",
       "duration       -0.000866  1.000000 -0.071699 -0.047577  0.020640   \n",
       "campaign        0.004594 -0.071699  1.000000  0.052584 -0.079141   \n",
       "pdays          -0.034369 -0.047577  0.052584  1.000000 -0.587514   \n",
       "previous        0.024365  0.020640 -0.079141 -0.587514  1.000000   \n",
       "emp.var.rate   -0.000371 -0.027968  0.150754  0.271004 -0.420489   \n",
       "cons.price.idx  0.000857  0.005312  0.127836  0.078889 -0.203130   \n",
       "cons.conf.idx   0.129372 -0.008173 -0.013733 -0.091342 -0.050936   \n",
       "euribor3m       0.010767 -0.032897  0.135133  0.296899 -0.454494   \n",
       "nr.employed    -0.017725 -0.044703  0.144095  0.372605 -0.501333   \n",
       "\n",
       "                emp.var.rate  cons.price.idx  cons.conf.idx  euribor3m  \\\n",
       "age                -0.000371        0.000857       0.129372   0.010767   \n",
       "duration           -0.027968        0.005312      -0.008173  -0.032897   \n",
       "campaign            0.150754        0.127836      -0.013733   0.135133   \n",
       "pdays               0.271004        0.078889      -0.091342   0.296899   \n",
       "previous           -0.420489       -0.203130      -0.050936  -0.454494   \n",
       "emp.var.rate        1.000000        0.775334       0.196041   0.972245   \n",
       "cons.price.idx      0.775334        1.000000       0.058986   0.688230   \n",
       "cons.conf.idx       0.196041        0.058986       1.000000   0.277686   \n",
       "euribor3m           0.972245        0.688230       0.277686   1.000000   \n",
       "nr.employed         0.906970        0.522034       0.100513   0.945154   \n",
       "\n",
       "                nr.employed  \n",
       "age               -0.017725  \n",
       "duration          -0.044703  \n",
       "campaign           0.144095  \n",
       "pdays              0.372605  \n",
       "previous          -0.501333  \n",
       "emp.var.rate       0.906970  \n",
       "cons.price.idx     0.522034  \n",
       "cons.conf.idx      0.100513  \n",
       "euribor3m          0.945154  \n",
       "nr.employed        1.000000  "
      ]
     },
     "execution_count": 33,
     "metadata": {},
     "output_type": "execute_result"
    }
   ],
   "source": [
    "corr = df.corr()\n",
    "corr"
   ]
  },
  {
   "cell_type": "code",
   "execution_count": 34,
   "id": "b7c96302",
   "metadata": {},
   "outputs": [
    {
     "data": {
      "image/png": "[encoded data removed]",
      "text/plain": [
       "<Figure size 1080x720 with 2 Axes>"
      ]
     },
     "metadata": {
      "needs_background": "light"
     },
     "output_type": "display_data"
    }
   ],
   "source": [
    "#visualizing correlation \n",
    "plt.figure(figsize = (15, 10))\n",
    "sns.heatmap(df.corr(), annot = True, square=True, fmt='.2f', cmap=\"YlGnBu\")\n",
    "plt.show()"
   ]
  },
  {
   "cell_type": "code",
   "execution_count": 35,
   "id": "3f0a3afa",
   "metadata": {},
   "outputs": [
    {
     "data": {
      "image/png": "[encoded data removed]",
      "text/plain": [
       "<Figure size 1800x1800 with 110 Axes>"
      ]
     },
     "metadata": {
      "needs_background": "light"
     },
     "output_type": "display_data"
    }
   ],
   "source": [
    "sns.pairplot(data=df[numerical], diag_kind = \"kde\", markers = \"+\")\n",
    "plt.show()"
   ]
  },
  {
   "cell_type": "markdown",
   "id": "8ec27cfb",
   "metadata": {},
   "source": [
    "***v. Data Preprocessing***"
   ]
  },
  {
   "cell_type": "markdown",
   "id": "f34fc473",
   "metadata": {},
   "source": [
    "**Declare feature vector and target variable**"
   ]
  },
  {
   "cell_type": "code",
   "execution_count": 36,
   "id": "7c393a4b",
   "metadata": {},
   "outputs": [],
   "source": [
    "X = df.drop(['subscribed','duration','pdays'], axis=1)\n",
    "\n",
    "y = df['subscribed']"
   ]
  },
  {
   "cell_type": "code",
   "execution_count": 37,
   "id": "3a89266d",
   "metadata": {},
   "outputs": [
    {
     "data": {
      "text/plain": [
       "((41188, 18), (41188,))"
      ]
     },
     "execution_count": 37,
     "metadata": {},
     "output_type": "execute_result"
    }
   ],
   "source": [
    "X.shape, y.shape"
   ]
  },
  {
   "cell_type": "markdown",
   "id": "94da2a0e",
   "metadata": {},
   "source": [
    "**Split data into separate training and test set**"
   ]
  },
  {
   "cell_type": "code",
   "execution_count": 38,
   "id": "4f2b78f8",
   "metadata": {},
   "outputs": [],
   "source": [
    "X_train, X_test, y_train, y_test = train_test_split(X, y, test_size=0.2, random_state=42, stratify=y)"
   ]
  },
  {
   "cell_type": "code",
   "execution_count": 39,
   "id": "3cc2b20c",
   "metadata": {},
   "outputs": [
    {
     "data": {
      "text/plain": [
       "((32950, 18), (8238, 18))"
      ]
     },
     "execution_count": 39,
     "metadata": {},
     "output_type": "execute_result"
    }
   ],
   "source": [
    "X_train.shape, X_test.shape"
   ]
  },
  {
   "cell_type": "markdown",
   "id": "5a6830b8",
   "metadata": {},
   "source": [
    "**Feature Engineering**\n",
    "\n",
    "Feature Engineering is the process of transforming raw data into useful features that help us to understand our model better and increase its predictive power. I will carry out feature engineering on different types of variables.\n",
    "\n",
    "First, I will display the categorical and numerical variables again separately."
   ]
  },
  {
   "cell_type": "code",
   "execution_count": 40,
   "id": "b67b3f2a",
   "metadata": {},
   "outputs": [
    {
     "data": {
      "text/plain": [
       "age                 int64\n",
       "job                object\n",
       "marital            object\n",
       "education          object\n",
       "default            object\n",
       "housing            object\n",
       "loan               object\n",
       "contact            object\n",
       "month              object\n",
       "day_of_week        object\n",
       "campaign            int64\n",
       "previous            int64\n",
       "poutcome           object\n",
       "emp.var.rate      float64\n",
       "cons.price.idx    float64\n",
       "cons.conf.idx     float64\n",
       "euribor3m         float64\n",
       "nr.employed       float64\n",
       "dtype: object"
      ]
     },
     "execution_count": 40,
     "metadata": {},
     "output_type": "execute_result"
    }
   ],
   "source": [
    "X_train.dtypes"
   ]
  },
  {
   "cell_type": "code",
   "execution_count": 41,
   "id": "bfd30b81",
   "metadata": {},
   "outputs": [
    {
     "data": {
      "text/plain": [
       "Index(['age', 'job', 'marital', 'education', 'default', 'housing', 'loan',\n",
       "       'contact', 'month', 'day_of_week', 'campaign', 'previous', 'poutcome',\n",
       "       'emp.var.rate', 'cons.price.idx', 'cons.conf.idx', 'euribor3m',\n",
       "       'nr.employed'],\n",
       "      dtype='object')"
      ]
     },
     "execution_count": 41,
     "metadata": {},
     "output_type": "execute_result"
    }
   ],
   "source": [
    "cols = X_train.columns\n",
    "cols"
   ]
  },
  {
   "cell_type": "code",
   "execution_count": 42,
   "id": "80205492",
   "metadata": {},
   "outputs": [
    {
     "data": {
      "text/plain": [
       "['job',\n",
       " 'marital',\n",
       " 'education',\n",
       " 'default',\n",
       " 'housing',\n",
       " 'loan',\n",
       " 'contact',\n",
       " 'month',\n",
       " 'day_of_week',\n",
       " 'poutcome']"
      ]
     },
     "execution_count": 42,
     "metadata": {},
     "output_type": "execute_result"
    }
   ],
   "source": [
    "#Display categorical columns\n",
    "categorical = [col for col in X_train.columns if X_train[col].dtypes == 'O']\n",
    "\n",
    "categorical"
   ]
  },
  {
   "cell_type": "code",
   "execution_count": 43,
   "id": "663fa239",
   "metadata": {},
   "outputs": [
    {
     "data": {
      "text/plain": [
       "['age',\n",
       " 'campaign',\n",
       " 'previous',\n",
       " 'emp.var.rate',\n",
       " 'cons.price.idx',\n",
       " 'cons.conf.idx',\n",
       " 'euribor3m',\n",
       " 'nr.employed']"
      ]
     },
     "execution_count": 43,
     "metadata": {},
     "output_type": "execute_result"
    }
   ],
   "source": [
    "#Display numerical columns\n",
    "numerical = [col for col in X_train.columns if X_train[col].dtypes != 'O']\n",
    "\n",
    "numerical"
   ]
  },
  {
   "cell_type": "code",
   "execution_count": 44,
   "id": "268eb41e",
   "metadata": {},
   "outputs": [],
   "source": [
    "from sklearn.base import TransformerMixin\n",
    "\n",
    "class DenseTransformer(TransformerMixin): \n",
    "    def fit(self, X, y=None, **fit_params): \n",
    "        return self \n",
    "    def transform(self, X, y=None, **fit_params): \n",
    "        return X.todense()"
   ]
  },
  {
   "cell_type": "code",
   "execution_count": 45,
   "id": "8bc203d7",
   "metadata": {},
   "outputs": [],
   "source": [
    "from sklearn.pipeline import Pipeline\n",
    "from sklearn.preprocessing import OneHotEncoder\n",
    "from sklearn.preprocessing import StandardScaler\n",
    "from sklearn.compose import ColumnTransformer\n",
    "\n",
    "\n",
    "    \n",
    "full_pipeline = ColumnTransformer([\n",
    "                ('cat',OneHotEncoder(),categorical),\n",
    "                ('num',StandardScaler(),numerical),\n",
    "])\n",
    "\n",
    "X_train = full_pipeline.fit_transform(X_train)"
   ]
  },
  {
   "cell_type": "code",
   "execution_count": 46,
   "id": "53e64318",
   "metadata": {},
   "outputs": [
    {
     "data": {
      "text/plain": [
       "(32950, 61)"
      ]
     },
     "execution_count": 46,
     "metadata": {},
     "output_type": "execute_result"
    }
   ],
   "source": [
    "X_train.shape"
   ]
  },
  {
   "cell_type": "code",
   "execution_count": 47,
   "id": "ffc564a1",
   "metadata": {},
   "outputs": [],
   "source": [
    "X_test = full_pipeline.transform(X_test)"
   ]
  },
  {
   "cell_type": "code",
   "execution_count": 48,
   "id": "e777dafd",
   "metadata": {},
   "outputs": [
    {
     "data": {
      "text/plain": [
       "(8238, 61)"
      ]
     },
     "execution_count": 48,
     "metadata": {},
     "output_type": "execute_result"
    }
   ],
   "source": [
    "X_test.shape"
   ]
  },
  {
   "cell_type": "markdown",
   "id": "3a1ba94c",
   "metadata": {},
   "source": [
    "***Modeling***"
   ]
  },
  {
   "cell_type": "markdown",
   "id": "5255d418",
   "metadata": {},
   "source": [
    "# ***1. Logistic Regression***"
   ]
  },
  {
   "cell_type": "markdown",
   "id": "c7f742bb",
   "metadata": {},
   "source": [
    "- **Model Training**"
   ]
  },
  {
   "cell_type": "code",
   "execution_count": 49,
   "id": "51601688",
   "metadata": {},
   "outputs": [
    {
     "data": {
      "text/plain": [
       "LogisticRegression(random_state=42)"
      ]
     },
     "execution_count": 49,
     "metadata": {},
     "output_type": "execute_result"
    }
   ],
   "source": [
    "from sklearn.linear_model import LogisticRegression\n",
    "\n",
    "# instantiate the model\n",
    "clf_lr = LogisticRegression(random_state=42)\n",
    "\n",
    "# fit the model\n",
    "clf_lr.fit(X_train,y_train)"
   ]
  },
  {
   "cell_type": "markdown",
   "id": "24750a2c",
   "metadata": {},
   "source": [
    "- **Predict Result**"
   ]
  },
  {
   "cell_type": "code",
   "execution_count": 50,
   "id": "e9c2c17a",
   "metadata": {},
   "outputs": [
    {
     "data": {
      "text/plain": [
       "array(['no', 'no', 'yes', ..., 'no', 'no', 'no'], dtype=object)"
      ]
     },
     "execution_count": 50,
     "metadata": {},
     "output_type": "execute_result"
    }
   ],
   "source": [
    "y_pred_test = clf_lr.predict(X_test)\n",
    "\n",
    "y_pred_test"
   ]
  },
  {
   "cell_type": "code",
   "execution_count": 51,
   "id": "53c73f66",
   "metadata": {},
   "outputs": [
    {
     "data": {
      "text/plain": [
       "array([[0.93194032, 0.06805968]])"
      ]
     },
     "execution_count": 51,
     "metadata": {},
     "output_type": "execute_result"
    }
   ],
   "source": [
    "clf_lr.predict_proba(X_test)[:1]"
   ]
  },
  {
   "cell_type": "code",
   "execution_count": 52,
   "id": "b3ecf755",
   "metadata": {},
   "outputs": [
    {
     "data": {
      "text/plain": [
       "array([0.93194032, 0.52487375, 0.43407623, ..., 0.81325287, 0.97619447,\n",
       "       0.9390229 ])"
      ]
     },
     "execution_count": 52,
     "metadata": {},
     "output_type": "execute_result"
    }
   ],
   "source": [
    "clf_lr.predict_proba(X_test)[:,0]"
   ]
  },
  {
   "cell_type": "markdown",
   "id": "67e04fa5",
   "metadata": {},
   "source": [
    "- **Check accuracy score**"
   ]
  },
  {
   "cell_type": "code",
   "execution_count": 53,
   "id": "486544fe",
   "metadata": {},
   "outputs": [
    {
     "name": "stdout",
     "output_type": "stream",
     "text": [
      "Model accuracy score: 0.9006\n"
     ]
    }
   ],
   "source": [
    "from sklearn.metrics import accuracy_score\n",
    "\n",
    "print('Model accuracy score: {0:0.4f}'. format(accuracy_score(y_test, y_pred_test)))"
   ]
  },
  {
   "cell_type": "markdown",
   "id": "db4ad83b",
   "metadata": {},
   "source": [
    "- **Compare the train-set and test-set accuracy**"
   ]
  },
  {
   "cell_type": "code",
   "execution_count": 54,
   "id": "24908d7b",
   "metadata": {},
   "outputs": [
    {
     "data": {
      "text/plain": [
       "array(['no', 'no', 'yes', ..., 'no', 'no', 'no'], dtype=object)"
      ]
     },
     "execution_count": 54,
     "metadata": {},
     "output_type": "execute_result"
    }
   ],
   "source": [
    "y_pred_train = clf_lr.predict(X_train)\n",
    "\n",
    "y_pred_train"
   ]
  },
  {
   "cell_type": "code",
   "execution_count": 55,
   "id": "e28e0aec",
   "metadata": {},
   "outputs": [
    {
     "name": "stdout",
     "output_type": "stream",
     "text": [
      "Training-set accuracy score: 0.8997\n"
     ]
    }
   ],
   "source": [
    "print('Training-set accuracy score: {0:0.4f}'. format(accuracy_score(y_train, y_pred_train)))"
   ]
  },
  {
   "cell_type": "code",
   "execution_count": 56,
   "id": "0ddbb31f",
   "metadata": {},
   "outputs": [
    {
     "name": "stdout",
     "output_type": "stream",
     "text": [
      "Training set score: 0.8997\n",
      "Test set score: 0.9006\n"
     ]
    }
   ],
   "source": [
    "# Check for overfitting and underfitting \n",
    "\n",
    "print('Training set score: {:.4f}'.format(clf_lr.score(X_train, y_train)))\n",
    "\n",
    "print('Test set score: {:.4f}'.format(clf_lr.score(X_test, y_test)))"
   ]
  },
  {
   "cell_type": "markdown",
   "id": "4084a906",
   "metadata": {},
   "source": [
    "The training-set accuracy score is 0.9006 while the test-set accuracy to be 0.8997. These two values are quite comparable. So, there is no question of overfitting."
   ]
  },
  {
   "cell_type": "markdown",
   "id": "041be03e",
   "metadata": {},
   "source": [
    "- **Compare model accuracy with null accuracy**\n",
    "\n",
    "So, the model accuracy is 0.9006. But, we cannot say that our model is very good based on the above accuracy. We must compare it with the null accuracy. Null accuracy is the accuracy that could be achieved by always predicting the most frequent class.\n",
    "\n",
    "So, we should first check the class distribution in the test set."
   ]
  },
  {
   "cell_type": "code",
   "execution_count": 57,
   "id": "2d0a32e2",
   "metadata": {},
   "outputs": [
    {
     "data": {
      "text/plain": [
       "no     7310\n",
       "yes     928\n",
       "Name: subscribed, dtype: int64"
      ]
     },
     "execution_count": 57,
     "metadata": {},
     "output_type": "execute_result"
    }
   ],
   "source": [
    "y_test.value_counts()"
   ]
  },
  {
   "cell_type": "code",
   "execution_count": 58,
   "id": "ccb648b3",
   "metadata": {},
   "outputs": [
    {
     "name": "stdout",
     "output_type": "stream",
     "text": [
      "Null accuracy score: 0.8874\n"
     ]
    }
   ],
   "source": [
    "null_acc = (7310/(7310+928))\n",
    "\n",
    "print('Null accuracy score: {0:0.4f}'. format(null_acc))"
   ]
  },
  {
   "cell_type": "markdown",
   "id": "f7f185b2",
   "metadata": {},
   "source": [
    "So, we can conclude that our Logistic Regression model is doing a very good job in predicting the class labels."
   ]
  },
  {
   "cell_type": "markdown",
   "id": "f4319df2",
   "metadata": {},
   "source": [
    "Now, based on the above analysis we can conclude that our classification model accuracy is very good. Our model is doing a very good job in terms of predicting the class labels.\n",
    "\n",
    "But, it does not give the underlying distribution of values. Also, it does not tell anything about the type of errors our classifer is making.\n",
    "\n",
    "We have another tool called `Confusion matrix` that comes to our rescue."
   ]
  },
  {
   "cell_type": "markdown",
   "id": "8643992b",
   "metadata": {},
   "source": [
    "- **Confusion Matrix**\n",
    "\n",
    "A confusion matrix is a tool for summarizing the performance of a classification algorithm. A confusion matrix will give us a clear picture of classification model performance and the types of errors produced by the model. It gives us a summary of correct and incorrect predictions broken down by each category. The summary is represented in a tabular form.\n",
    "\n",
    "Four types of outcomes are possible while evaluating a classification model performance. These four outcomes are described below:-\n",
    "\n",
    "**True Positives (TP)** – True Positives occur when we predict an observation belongs to a certain class and the observation actually belongs to that class.\n",
    "\n",
    "**True Negatives (TN)** – True Negatives occur when we predict an observation does not belong to a certain class and the observation actually does not belong to that class.\n",
    "\n",
    "**False Positives (FP)** – False Positives occur when we predict an observation belongs to a certain class but the observation actually does not belong to that class. This type of error is called Type I error.\n",
    "\n",
    "**False Negatives (FN)** – False Negatives occur when we predict an observation does not belong to a certain class but the observation actually belongs to that class. This is a very serious error and it is called Type II error.\n",
    "\n",
    "These four outcomes are summarized in a confusion matrix given below."
   ]
  },
  {
   "cell_type": "code",
   "execution_count": 59,
   "id": "78e4e65c",
   "metadata": {},
   "outputs": [
    {
     "name": "stdout",
     "output_type": "stream",
     "text": [
      "Confusion matrix\n",
      "\n",
      " [[7217   93]\n",
      " [ 726  202]]\n",
      "\n",
      "True Positives(TP) =  7217\n",
      "\n",
      "True Negatives(TN) =  202\n",
      "\n",
      "False Positives(FP) =  93\n",
      "\n",
      "False Negatives(FN) =  726\n"
     ]
    }
   ],
   "source": [
    "from sklearn.metrics import confusion_matrix\n",
    "\n",
    "cm = confusion_matrix(y_test,y_pred_test)\n",
    "\n",
    "print('Confusion matrix\\n\\n', cm)\n",
    "\n",
    "print('\\nTrue Positives(TP) = ', cm[0,0])\n",
    "\n",
    "print('\\nTrue Negatives(TN) = ', cm[1,1])\n",
    "\n",
    "print('\\nFalse Positives(FP) = ', cm[0,1])\n",
    "\n",
    "print('\\nFalse Negatives(FN) = ', cm[1,0])"
   ]
  },
  {
   "cell_type": "markdown",
   "id": "8dc1c383",
   "metadata": {},
   "source": [
    "The confusion matrix shows 7217 + 202 = 7419 correct predictions and 726 + 93 = 819 incorrect predictions.\n",
    "\n",
    "In this case, we have\n",
    "\n",
    "- True Positives (Actual Positive:1 and Predict Positive:1) - 7217\n",
    "- True Negatives (Actual Negative:0 and Predict Negative:0) - 202\n",
    "- False Positives (Actual Negative:0 but Predict Positive:1) - 93 (Type I error)\n",
    "- False Negatives (Actual Positive:1 but Predict Negative:0) - 726 (Type II error)"
   ]
  },
  {
   "cell_type": "code",
   "execution_count": 60,
   "id": "0312e394",
   "metadata": {},
   "outputs": [
    {
     "data": {
      "text/plain": [
       "<AxesSubplot:>"
      ]
     },
     "execution_count": 60,
     "metadata": {},
     "output_type": "execute_result"
    },
    {
     "data": {
      "image/png": "[encoded data removed]",
      "text/plain": [
       "<Figure size 432x288 with 2 Axes>"
      ]
     },
     "metadata": {
      "needs_background": "light"
     },
     "output_type": "display_data"
    }
   ],
   "source": [
    "# visualize confusion matrix with seaborn heatmap\n",
    "\n",
    "cm_matrix = pd.DataFrame(data=cm, columns=['Actual Positive:1', 'Actual Negative:0'], \n",
    "                                 index=['Predict Positive:1', 'Predict Negative:0'])\n",
    "\n",
    "sns.heatmap(cm_matrix, annot=True, fmt='d', cmap='YlGnBu')"
   ]
  },
  {
   "cell_type": "markdown",
   "id": "482dd03b",
   "metadata": {},
   "source": [
    "- **Classification Metrices**\n",
    "\n",
    "Classification report is another way to evaluate the classification model performance. It displays the precision, recall, f1 and support scores for the model. I have described these terms in later.\n",
    "\n",
    "We can print a classification report as follows:"
   ]
  },
  {
   "cell_type": "code",
   "execution_count": 61,
   "id": "691f2b4f",
   "metadata": {},
   "outputs": [
    {
     "name": "stdout",
     "output_type": "stream",
     "text": [
      "              precision    recall  f1-score   support\n",
      "\n",
      "          no       0.91      0.99      0.95      7310\n",
      "         yes       0.68      0.22      0.33       928\n",
      "\n",
      "    accuracy                           0.90      8238\n",
      "   macro avg       0.80      0.60      0.64      8238\n",
      "weighted avg       0.88      0.90      0.88      8238\n",
      "\n"
     ]
    }
   ],
   "source": [
    "from sklearn.metrics import classification_report\n",
    "\n",
    "print(classification_report(y_test,y_pred_test))"
   ]
  },
  {
   "cell_type": "code",
   "execution_count": 62,
   "id": "1f50c1d8",
   "metadata": {},
   "outputs": [
    {
     "name": "stdout",
     "output_type": "stream",
     "text": [
      "Classification error : 0.0994\n"
     ]
    }
   ],
   "source": [
    "# classification error\n",
    "\n",
    "TP = cm[0,0]\n",
    "TN = cm[1,1]\n",
    "FP = cm[0,1]\n",
    "FN = cm[1,0]\n",
    "\n",
    "classification_error = (FP + FN) / float(TP + TN + FP + FN)\n",
    "\n",
    "print('Classification error : {0:0.4f}'.format(classification_error))"
   ]
  },
  {
   "cell_type": "markdown",
   "id": "ba8a1bad",
   "metadata": {},
   "source": [
    "- **Model evaluation and improvement**\n",
    "\n",
    "In this section, I will employ several techniques to improve the model performance. I will discuss 3 techniques which are used in practice for performance improvement. These are `recursive feature elimination`, `k-fold cross validation` and `hyperparameter optimization using GridSearchCV`."
   ]
  },
  {
   "cell_type": "markdown",
   "id": "0c2b0f1a",
   "metadata": {},
   "source": [
    "**Recursive Feature Elimination with Cross Validation**\n",
    "\n",
    "Recursive feature elimination (RFE) is a feature selection technique that helps us to select best features from the given number of features. At first, the model is built on all the given features. Then, it removes the least useful predictor and build the model again. This process is repeated until all the unimportant features are removed from the model.\n",
    "\n",
    "Recursive Feature Elimination with Cross-Validated (RFECV) feature selection technique selects the best subset of features for the estimator by removing 0 to N features iteratively using recursive feature elimination. Then it selects the best subset based on the accuracy or cross-validation score or roc-auc of the model. Recursive feature elimination technique eliminates n features from a model by fitting the model multiple times and at each step, removing the weakest features.\n",
    "\n",
    "I will use this technique to select best features from this model."
   ]
  },
  {
   "cell_type": "code",
   "execution_count": 63,
   "id": "d729b5e6",
   "metadata": {},
   "outputs": [
    {
     "name": "stdout",
     "output_type": "stream",
     "text": [
      "Optimal number of features : 21\n",
      "Time: 146.0069830417633\n"
     ]
    }
   ],
   "source": [
    "from sklearn.feature_selection import RFECV\n",
    "t0=time()\n",
    "\n",
    "rfecv = RFECV(estimator=clf_lr,\n",
    "                step=1,\n",
    "                cv=5,\n",
    "                scoring='accuracy')\n",
    "\n",
    "rfecv = rfecv.fit(X_train,y_train)\n",
    "\n",
    "print(\"Optimal number of features : %d\" % rfecv.n_features_)\n",
    "\n",
    "print('Time:',time() - t0)"
   ]
  },
  {
   "cell_type": "code",
   "execution_count": 64,
   "id": "ba346ae2",
   "metadata": {},
   "outputs": [
    {
     "data": {
      "text/plain": [
       "LogisticRegression(random_state=42)"
      ]
     },
     "execution_count": 64,
     "metadata": {},
     "output_type": "execute_result"
    }
   ],
   "source": [
    "# transform the training data\n",
    "\n",
    "X_train_rfecv = rfecv.transform(X_train)\n",
    "\n",
    "\n",
    "# train classifier\n",
    "\n",
    "clf_lr.fit(X_train_rfecv, y_train)"
   ]
  },
  {
   "cell_type": "code",
   "execution_count": 65,
   "id": "889dd535",
   "metadata": {},
   "outputs": [],
   "source": [
    "# test classifier on test data\n",
    "\n",
    "X_test_rfecv = rfecv.transform(X_test)\n",
    "\n",
    "y_pred_rfecv = clf_lr.predict(X_test_rfecv)"
   ]
  },
  {
   "cell_type": "code",
   "execution_count": 66,
   "id": "aa07151e",
   "metadata": {},
   "outputs": [
    {
     "name": "stdout",
     "output_type": "stream",
     "text": [
      "Classifier score: 0.9008\n"
     ]
    }
   ],
   "source": [
    "# print mean accuracy on transformed test data and labels\n",
    "\n",
    "print (\"Classifier score: {:.4f}\".format(clf_lr.score(X_test_rfecv,y_test)))"
   ]
  },
  {
   "cell_type": "markdown",
   "id": "fc07390d",
   "metadata": {},
   "source": [
    "Our original model accuracy score is 0.9006 whereas accuracy score after RFECV is 0.9008. So, we can obtain approximately similar accuracy but with reduced or optimal set of features."
   ]
  },
  {
   "cell_type": "code",
   "execution_count": 67,
   "id": "3187aaae",
   "metadata": {},
   "outputs": [
    {
     "name": "stdout",
     "output_type": "stream",
     "text": [
      "Confusion matrix\n",
      "\n",
      " [[7223   87]\n",
      " [ 730  198]]\n",
      "\n",
      "True Positives(TP1) =  7223\n",
      "\n",
      "True Negatives(TN1) =  198\n",
      "\n",
      "False Positives(FP1) =  87\n",
      "\n",
      "False Negatives(FN1) =  730\n"
     ]
    }
   ],
   "source": [
    "# revisit confusion matrix\n",
    "\n",
    "cm1 = confusion_matrix(y_test, y_pred_rfecv)\n",
    "\n",
    "print('Confusion matrix\\n\\n', cm1)\n",
    "\n",
    "print('\\nTrue Positives(TP1) = ', cm1[0,0])\n",
    "\n",
    "print('\\nTrue Negatives(TN1) = ', cm1[1,1])\n",
    "\n",
    "print('\\nFalse Positives(FP1) = ', cm1[0,1])\n",
    "\n",
    "print('\\nFalse Negatives(FN1) = ', cm1[1,0])"
   ]
  },
  {
   "cell_type": "markdown",
   "id": "7917c3b3",
   "metadata": {},
   "source": [
    "We can see that in the original model, we have FP = 93 whereas FP1 = 87. So, we get slightly lower false positives. Also, FN = 726 whereas FN1 = 730. So, we get slightly higher false negatives."
   ]
  },
  {
   "cell_type": "markdown",
   "id": "39918a62",
   "metadata": {},
   "source": [
    "**k-Fold Cross Validation**"
   ]
  },
  {
   "cell_type": "code",
   "execution_count": 68,
   "id": "33b4a642",
   "metadata": {},
   "outputs": [
    {
     "name": "stdout",
     "output_type": "stream",
     "text": [
      "Cross-validation scores:[0.90045524 0.9        0.89681335 0.89742033 0.90030349]\n"
     ]
    }
   ],
   "source": [
    "from sklearn.model_selection import cross_val_score\n",
    "\n",
    "cvs = cross_val_score(clf_lr,\n",
    "                        X_train,\n",
    "                        y_train,\n",
    "                        cv=5,\n",
    "                        scoring='accuracy')\n",
    "\n",
    "print('Cross-validation scores:{}'.format(cvs))"
   ]
  },
  {
   "cell_type": "markdown",
   "id": "e4812b8d",
   "metadata": {},
   "source": [
    "We can summarize the cross-validation accuracy by calculating its mean."
   ]
  },
  {
   "cell_type": "code",
   "execution_count": 69,
   "id": "70508af7",
   "metadata": {},
   "outputs": [
    {
     "name": "stdout",
     "output_type": "stream",
     "text": [
      "Average cross-validation score: 0.8990\n"
     ]
    }
   ],
   "source": [
    "# compute Average cross-validation score\n",
    "\n",
    "print('Average cross-validation score: {:.4f}'.format(cvs.mean()))"
   ]
  },
  {
   "cell_type": "markdown",
   "id": "58f61156",
   "metadata": {},
   "source": [
    "Our, original model score is found to be 0.9001. The average cross-validation score is 0.8990. So, we can conclude that cross-validation does not result in performance improvement."
   ]
  },
  {
   "cell_type": "markdown",
   "id": "1edd5845",
   "metadata": {},
   "source": [
    "# ***2. Decission Tree Classifier***"
   ]
  },
  {
   "cell_type": "code",
   "execution_count": 70,
   "id": "45d5108d",
   "metadata": {},
   "outputs": [
    {
     "data": {
      "text/plain": [
       "DecisionTreeClassifier(max_depth=3, random_state=42)"
      ]
     },
     "execution_count": 70,
     "metadata": {},
     "output_type": "execute_result"
    }
   ],
   "source": [
    "from sklearn.tree import DecisionTreeClassifier\n",
    "\n",
    "clf_dtc = DecisionTreeClassifier(criterion='gini', max_depth=3, random_state=42)\n",
    "\n",
    "clf_dtc.fit(X_train,y_train)"
   ]
  },
  {
   "cell_type": "code",
   "execution_count": 71,
   "id": "29d3ce9b",
   "metadata": {},
   "outputs": [
    {
     "data": {
      "text/plain": [
       "array(['no', 'no', 'no', ..., 'no', 'no', 'no'], dtype=object)"
      ]
     },
     "execution_count": 71,
     "metadata": {},
     "output_type": "execute_result"
    }
   ],
   "source": [
    "y_pred_test = clf_dtc.predict(X_test)\n",
    "\n",
    "y_pred_test"
   ]
  },
  {
   "cell_type": "code",
   "execution_count": 72,
   "id": "a4604332",
   "metadata": {},
   "outputs": [
    {
     "name": "stdout",
     "output_type": "stream",
     "text": [
      "Model accuracy score: 0.9007\n",
      "Training set score: 0.8994\n",
      "Confusion matrix\n",
      "\n",
      " [[7254   56]\n",
      " [ 762  166]]\n",
      "\n",
      "True Positives(TP) =  7254\n",
      "\n",
      "True Negatives(TN) =  166\n",
      "\n",
      "False Positives(FP) =  56\n",
      "\n",
      "False Negatives(FN) =  762\n",
      "\n",
      "classification_report :\n",
      "               precision    recall  f1-score   support\n",
      "\n",
      "          no       0.90      0.99      0.95      7310\n",
      "         yes       0.75      0.18      0.29       928\n",
      "\n",
      "    accuracy                           0.90      8238\n",
      "   macro avg       0.83      0.59      0.62      8238\n",
      "weighted avg       0.89      0.90      0.87      8238\n",
      "\n"
     ]
    }
   ],
   "source": [
    "print('Model accuracy score: {0:0.4f}'. format(accuracy_score(y_test, y_pred_test)))\n",
    "\n",
    "print('Training set score: {:.4f}'.format(clf_dtc.score(X_train, y_train)))\n",
    "\n",
    "cm = confusion_matrix(y_test,y_pred_test)\n",
    "\n",
    "print('Confusion matrix\\n\\n', cm)\n",
    "\n",
    "print('\\nTrue Positives(TP) = ', cm[0,0])\n",
    "\n",
    "print('\\nTrue Negatives(TN) = ', cm[1,1])\n",
    "\n",
    "print('\\nFalse Positives(FP) = ', cm[0,1])\n",
    "\n",
    "print('\\nFalse Negatives(FN) = ', cm[1,0])\n",
    "\n",
    "print('\\nclassification_report :\\n',classification_report(y_test,y_pred_test))"
   ]
  },
  {
   "cell_type": "code",
   "execution_count": 73,
   "id": "9c6e0431",
   "metadata": {},
   "outputs": [
    {
     "data": {
      "text/plain": [
       "<AxesSubplot:>"
      ]
     },
     "execution_count": 73,
     "metadata": {},
     "output_type": "execute_result"
    },
    {
     "data": {
      "image/png": "[encoded data removed]",
      "text/plain": [
       "<Figure size 432x288 with 2 Axes>"
      ]
     },
     "metadata": {
      "needs_background": "light"
     },
     "output_type": "display_data"
    }
   ],
   "source": [
    "# visualize confusion matrix with seaborn heatmap\n",
    "\n",
    "cm_matrix = pd.DataFrame(data=cm, columns=['Actual Positive:1', 'Actual Negative:0'], \n",
    "                                 index=['Predict Positive:1', 'Predict Negative:0'])\n",
    "\n",
    "sns.heatmap(cm_matrix, annot=True, fmt='d', cmap='YlGnBu')"
   ]
  },
  {
   "cell_type": "markdown",
   "id": "a2a31672",
   "metadata": {},
   "source": [
    "#  ***3. Random Forest Classifier***"
   ]
  },
  {
   "cell_type": "code",
   "execution_count": 74,
   "id": "022dca87",
   "metadata": {},
   "outputs": [
    {
     "data": {
      "text/plain": [
       "RandomForestClassifier(max_leaf_nodes=16, n_estimators=200, random_state=42)"
      ]
     },
     "execution_count": 74,
     "metadata": {},
     "output_type": "execute_result"
    }
   ],
   "source": [
    "from sklearn.ensemble import RandomForestClassifier\n",
    "\n",
    "clf_rfc = RandomForestClassifier(n_estimators=200, \n",
    "                                 max_leaf_nodes=16, \n",
    "                                 random_state=42)\n",
    "\n",
    "clf_rfc.fit(X_train,y_train)"
   ]
  },
  {
   "cell_type": "code",
   "execution_count": 75,
   "id": "294a32bf",
   "metadata": {},
   "outputs": [
    {
     "data": {
      "text/plain": [
       "array(['no', 'no', 'no', ..., 'no', 'no', 'no'], dtype=object)"
      ]
     },
     "execution_count": 75,
     "metadata": {},
     "output_type": "execute_result"
    }
   ],
   "source": [
    "y_pred_test = clf_rfc.predict(X_test)\n",
    "\n",
    "y_pred_test"
   ]
  },
  {
   "cell_type": "code",
   "execution_count": 76,
   "id": "18bb15f5",
   "metadata": {},
   "outputs": [
    {
     "name": "stdout",
     "output_type": "stream",
     "text": [
      "Model accuracy score: 0.8990\n",
      "Training set score: 0.8989\n",
      "Confusion matrix\n",
      "\n",
      " [[7265   45]\n",
      " [ 787  141]]\n",
      "\n",
      "True Positives(TP) =  7265\n",
      "\n",
      "True Negatives(TN) =  141\n",
      "\n",
      "False Positives(FP) =  45\n",
      "\n",
      "False Negatives(FN) =  787\n",
      "\n",
      "classification_report :\n",
      "               precision    recall  f1-score   support\n",
      "\n",
      "          no       0.90      0.99      0.95      7310\n",
      "         yes       0.76      0.15      0.25       928\n",
      "\n",
      "    accuracy                           0.90      8238\n",
      "   macro avg       0.83      0.57      0.60      8238\n",
      "weighted avg       0.89      0.90      0.87      8238\n",
      "\n"
     ]
    }
   ],
   "source": [
    "print('Model accuracy score: {0:0.4f}'. format(accuracy_score(y_test, y_pred_test)))\n",
    "\n",
    "print('Training set score: {:.4f}'.format(clf_rfc.score(X_train, y_train)))\n",
    "\n",
    "cm = confusion_matrix(y_test,y_pred_test)\n",
    "\n",
    "print('Confusion matrix\\n\\n', cm)\n",
    "\n",
    "print('\\nTrue Positives(TP) = ', cm[0,0])\n",
    "\n",
    "print('\\nTrue Negatives(TN) = ', cm[1,1])\n",
    "\n",
    "print('\\nFalse Positives(FP) = ', cm[0,1])\n",
    "\n",
    "print('\\nFalse Negatives(FN) = ', cm[1,0])\n",
    "\n",
    "print('\\nclassification_report :\\n',classification_report(y_test,y_pred_test))"
   ]
  },
  {
   "cell_type": "code",
   "execution_count": 77,
   "id": "bf0f700b",
   "metadata": {},
   "outputs": [
    {
     "data": {
      "text/plain": [
       "<AxesSubplot:>"
      ]
     },
     "execution_count": 77,
     "metadata": {},
     "output_type": "execute_result"
    },
    {
     "data": {
      "image/png": "[encoded data removed]",
      "text/plain": [
       "<Figure size 432x288 with 2 Axes>"
      ]
     },
     "metadata": {
      "needs_background": "light"
     },
     "output_type": "display_data"
    }
   ],
   "source": [
    "# visualize confusion matrix with seaborn heatmap\n",
    "\n",
    "cm_matrix = pd.DataFrame(data=cm, columns=['Actual Positive:1', 'Actual Negative:0'], \n",
    "                                 index=['Predict Positive:1', 'Predict Negative:0'])\n",
    "\n",
    "sns.heatmap(cm_matrix, annot=True, fmt='d', cmap='YlGnBu')"
   ]
  },
  {
   "cell_type": "markdown",
   "id": "5625d537",
   "metadata": {},
   "source": [
    "# ***4. KNN***"
   ]
  },
  {
   "cell_type": "code",
   "execution_count": 78,
   "id": "c3cf83ef",
   "metadata": {},
   "outputs": [
    {
     "data": {
      "text/plain": [
       "KNeighborsClassifier(n_neighbors=3)"
      ]
     },
     "execution_count": 78,
     "metadata": {},
     "output_type": "execute_result"
    }
   ],
   "source": [
    "from sklearn.neighbors import KNeighborsClassifier\n",
    "\n",
    "clf_knn = KNeighborsClassifier(n_neighbors = 3)\n",
    "\n",
    "clf_knn.fit(X_train,y_train)"
   ]
  },
  {
   "cell_type": "code",
   "execution_count": 79,
   "id": "4ebda10f",
   "metadata": {},
   "outputs": [
    {
     "data": {
      "text/plain": [
       "array(['no', 'no', 'no', ..., 'no', 'no', 'no'], dtype=object)"
      ]
     },
     "execution_count": 79,
     "metadata": {},
     "output_type": "execute_result"
    }
   ],
   "source": [
    "y_pred_test = clf_knn.predict(X_test)\n",
    "\n",
    "y_pred_test"
   ]
  },
  {
   "cell_type": "code",
   "execution_count": 80,
   "id": "a6254bec",
   "metadata": {},
   "outputs": [
    {
     "name": "stdout",
     "output_type": "stream",
     "text": [
      "Model accuracy score: 0.8861\n"
     ]
    }
   ],
   "source": [
    "print('Model accuracy score: {0:0.4f}'. format(accuracy_score(y_test, y_pred_test)))"
   ]
  },
  {
   "cell_type": "code",
   "execution_count": 81,
   "id": "10ca27d2",
   "metadata": {},
   "outputs": [
    {
     "data": {
      "text/plain": [
       "KNeighborsClassifier()"
      ]
     },
     "execution_count": 81,
     "metadata": {},
     "output_type": "execute_result"
    }
   ],
   "source": [
    "clf_knn_5 = KNeighborsClassifier(n_neighbors = 5)\n",
    "\n",
    "clf_knn_5.fit(X_train,y_train)"
   ]
  },
  {
   "cell_type": "code",
   "execution_count": 82,
   "id": "a4fefdd8",
   "metadata": {},
   "outputs": [
    {
     "data": {
      "text/plain": [
       "array(['no', 'yes', 'no', ..., 'no', 'no', 'no'], dtype=object)"
      ]
     },
     "execution_count": 82,
     "metadata": {},
     "output_type": "execute_result"
    }
   ],
   "source": [
    "y_pred_test = clf_knn_5.predict(X_test)\n",
    "\n",
    "y_pred_test"
   ]
  },
  {
   "cell_type": "code",
   "execution_count": 83,
   "id": "2090f264",
   "metadata": {},
   "outputs": [
    {
     "name": "stdout",
     "output_type": "stream",
     "text": [
      "Model accuracy score: 0.8960\n"
     ]
    }
   ],
   "source": [
    "print('Model accuracy score: {0:0.4f}'. format(accuracy_score(y_test, y_pred_test)))"
   ]
  },
  {
   "cell_type": "code",
   "execution_count": 84,
   "id": "e0d81192",
   "metadata": {},
   "outputs": [
    {
     "data": {
      "text/plain": [
       "KNeighborsClassifier(n_neighbors=7)"
      ]
     },
     "execution_count": 84,
     "metadata": {},
     "output_type": "execute_result"
    }
   ],
   "source": [
    "clf_knn_7 = KNeighborsClassifier(n_neighbors = 7)\n",
    "\n",
    "clf_knn_7.fit(X_train,y_train)"
   ]
  },
  {
   "cell_type": "code",
   "execution_count": 85,
   "id": "dc3f5046",
   "metadata": {},
   "outputs": [
    {
     "data": {
      "text/plain": [
       "array(['no', 'no', 'no', ..., 'no', 'no', 'no'], dtype=object)"
      ]
     },
     "execution_count": 85,
     "metadata": {},
     "output_type": "execute_result"
    }
   ],
   "source": [
    "y_pred_test = clf_knn_7.predict(X_test)\n",
    "\n",
    "y_pred_test"
   ]
  },
  {
   "cell_type": "code",
   "execution_count": 86,
   "id": "72e249a0",
   "metadata": {},
   "outputs": [
    {
     "name": "stdout",
     "output_type": "stream",
     "text": [
      "Model accuracy score: 0.8973\n"
     ]
    }
   ],
   "source": [
    "print('Model accuracy score: {0:0.4f}'. format(accuracy_score(y_test, y_pred_test)))"
   ]
  },
  {
   "cell_type": "code",
   "execution_count": 87,
   "id": "28744a68",
   "metadata": {},
   "outputs": [
    {
     "data": {
      "text/plain": [
       "KNeighborsClassifier(n_neighbors=9)"
      ]
     },
     "execution_count": 87,
     "metadata": {},
     "output_type": "execute_result"
    }
   ],
   "source": [
    "clf_knn_9 = KNeighborsClassifier(n_neighbors = 9)\n",
    "\n",
    "clf_knn_9.fit(X_train,y_train)"
   ]
  },
  {
   "cell_type": "code",
   "execution_count": 88,
   "id": "52538a80",
   "metadata": {},
   "outputs": [
    {
     "data": {
      "text/plain": [
       "array(['no', 'no', 'no', ..., 'no', 'no', 'no'], dtype=object)"
      ]
     },
     "execution_count": 88,
     "metadata": {},
     "output_type": "execute_result"
    }
   ],
   "source": [
    "y_pred_test = clf_knn_9.predict(X_test)\n",
    "\n",
    "y_pred_test"
   ]
  },
  {
   "cell_type": "code",
   "execution_count": 89,
   "id": "58d0dd54",
   "metadata": {},
   "outputs": [
    {
     "name": "stdout",
     "output_type": "stream",
     "text": [
      "Model accuracy score: 0.8990\n"
     ]
    }
   ],
   "source": [
    "print('Model accuracy score: {0:0.4f}'. format(accuracy_score(y_test, y_pred_test)))"
   ]
  },
  {
   "cell_type": "code",
   "execution_count": 90,
   "id": "f528bde8",
   "metadata": {},
   "outputs": [
    {
     "data": {
      "text/plain": [
       "KNeighborsClassifier(n_neighbors=10)"
      ]
     },
     "execution_count": 90,
     "metadata": {},
     "output_type": "execute_result"
    }
   ],
   "source": [
    "clf_knn_10 = KNeighborsClassifier(n_neighbors = 10)\n",
    "\n",
    "clf_knn_10.fit(X_train,y_train)"
   ]
  },
  {
   "cell_type": "code",
   "execution_count": 91,
   "id": "6419179d",
   "metadata": {},
   "outputs": [
    {
     "data": {
      "text/plain": [
       "array(['no', 'no', 'no', ..., 'no', 'no', 'no'], dtype=object)"
      ]
     },
     "execution_count": 91,
     "metadata": {},
     "output_type": "execute_result"
    }
   ],
   "source": [
    "y_pred_test = clf_knn_10.predict(X_test)\n",
    "\n",
    "y_pred_test"
   ]
  },
  {
   "cell_type": "code",
   "execution_count": 92,
   "id": "68b1c2ec",
   "metadata": {},
   "outputs": [
    {
     "name": "stdout",
     "output_type": "stream",
     "text": [
      "Model accuracy score: 0.8982\n"
     ]
    }
   ],
   "source": [
    "print('Model accuracy score: {0:0.4f}'. format(accuracy_score(y_test, y_pred_test)))"
   ]
  },
  {
   "cell_type": "code",
   "execution_count": 93,
   "id": "8e0120a3",
   "metadata": {},
   "outputs": [],
   "source": [
    "clf_knn_3 = KNeighborsClassifier(n_neighbors = 3)\n",
    "\n",
    "clf_knn_3.fit(X_train,y_train)\n",
    "\n",
    "y_pred_test = clf_knn_3.predict(X_test)"
   ]
  },
  {
   "cell_type": "code",
   "execution_count": 94,
   "id": "4786bd23",
   "metadata": {},
   "outputs": [
    {
     "name": "stdout",
     "output_type": "stream",
     "text": [
      "Model accuracy score: 0.8861\n",
      "Training set score: 0.9224\n",
      "Confusion matrix\n",
      "\n",
      " [[7025  285]\n",
      " [ 653  275]]\n",
      "\n",
      "True Positives(TP) =  7025\n",
      "\n",
      "True Negatives(TN) =  275\n",
      "\n",
      "False Positives(FP) =  285\n",
      "\n",
      "False Negatives(FN) =  653\n",
      "\n",
      "classification_report :\n",
      "               precision    recall  f1-score   support\n",
      "\n",
      "          no       0.91      0.96      0.94      7310\n",
      "         yes       0.49      0.30      0.37       928\n",
      "\n",
      "    accuracy                           0.89      8238\n",
      "   macro avg       0.70      0.63      0.65      8238\n",
      "weighted avg       0.87      0.89      0.87      8238\n",
      "\n"
     ]
    }
   ],
   "source": [
    "print('Model accuracy score: {0:0.4f}'. format(accuracy_score(y_test, y_pred_test)))\n",
    "\n",
    "print('Training set score: {:.4f}'.format(clf_knn_3.score(X_train, y_train)))\n",
    "\n",
    "cm = confusion_matrix(y_test,y_pred_test)\n",
    "\n",
    "print('Confusion matrix\\n\\n', cm)\n",
    "\n",
    "print('\\nTrue Positives(TP) = ', cm[0,0])\n",
    "\n",
    "print('\\nTrue Negatives(TN) = ', cm[1,1])\n",
    "\n",
    "print('\\nFalse Positives(FP) = ', cm[0,1])\n",
    "\n",
    "print('\\nFalse Negatives(FN) = ', cm[1,0])\n",
    "\n",
    "print('\\nclassification_report :\\n',classification_report(y_test,y_pred_test))"
   ]
  },
  {
   "cell_type": "markdown",
   "id": "366e2d20",
   "metadata": {},
   "source": [
    "# ***5. Adaboost Classifier***"
   ]
  },
  {
   "cell_type": "code",
   "execution_count": 95,
   "id": "9544f02a",
   "metadata": {},
   "outputs": [
    {
     "data": {
      "text/plain": [
       "AdaBoostClassifier(learning_rate=1, random_state=42)"
      ]
     },
     "execution_count": 95,
     "metadata": {},
     "output_type": "execute_result"
    }
   ],
   "source": [
    "from sklearn.ensemble import AdaBoostClassifier\n",
    "\n",
    "clf_adc = AdaBoostClassifier(n_estimators=50, learning_rate=1, random_state=42)\n",
    "\n",
    "clf_adc.fit(X_train, y_train)"
   ]
  },
  {
   "cell_type": "code",
   "execution_count": 96,
   "id": "51b7cdae",
   "metadata": {},
   "outputs": [
    {
     "data": {
      "text/plain": [
       "array(['no', 'no', 'yes', ..., 'no', 'no', 'no'], dtype=object)"
      ]
     },
     "execution_count": 96,
     "metadata": {},
     "output_type": "execute_result"
    }
   ],
   "source": [
    "y_pred_test = clf_adc.predict(X_test)\n",
    "\n",
    "y_pred_test"
   ]
  },
  {
   "cell_type": "code",
   "execution_count": 97,
   "id": "8c090ab5",
   "metadata": {},
   "outputs": [
    {
     "name": "stdout",
     "output_type": "stream",
     "text": [
      "Model accuracy score: 0.9005\n",
      "Training set score: 0.9004\n"
     ]
    }
   ],
   "source": [
    "print('Model accuracy score: {0:0.4f}'. format(accuracy_score(y_test, y_pred_test)))\n",
    "\n",
    "print('Training set score: {:.4f}'.format(clf_adc.score(X_train, y_train)))"
   ]
  },
  {
   "cell_type": "code",
   "execution_count": 98,
   "id": "8f57656f",
   "metadata": {},
   "outputs": [
    {
     "name": "stdout",
     "output_type": "stream",
     "text": [
      "Model accuracy score: 0.9005\n",
      "Training set score: 0.9004\n",
      "Confusion matrix\n",
      "\n",
      " [[7226   84]\n",
      " [ 736  192]]\n",
      "\n",
      "True Positives(TP) =  7226\n",
      "\n",
      "True Negatives(TN) =  192\n",
      "\n",
      "False Positives(FP) =  84\n",
      "\n",
      "False Negatives(FN) =  736\n",
      "\n",
      "classification_report :\n",
      "               precision    recall  f1-score   support\n",
      "\n",
      "          no       0.91      0.99      0.95      7310\n",
      "         yes       0.70      0.21      0.32       928\n",
      "\n",
      "    accuracy                           0.90      8238\n",
      "   macro avg       0.80      0.60      0.63      8238\n",
      "weighted avg       0.88      0.90      0.88      8238\n",
      "\n"
     ]
    }
   ],
   "source": [
    "print('Model accuracy score: {0:0.4f}'. format(accuracy_score(y_test, y_pred_test)))\n",
    "\n",
    "print('Training set score: {:.4f}'.format(clf_adc.score(X_train, y_train)))\n",
    "\n",
    "cm = confusion_matrix(y_test,y_pred_test)\n",
    "\n",
    "print('Confusion matrix\\n\\n', cm)\n",
    "\n",
    "print('\\nTrue Positives(TP) = ', cm[0,0])\n",
    "\n",
    "print('\\nTrue Negatives(TN) = ', cm[1,1])\n",
    "\n",
    "print('\\nFalse Positives(FP) = ', cm[0,1])\n",
    "\n",
    "print('\\nFalse Negatives(FN) = ', cm[1,0])\n",
    "\n",
    "print('\\nclassification_report :\\n',classification_report(y_test,y_pred_test))"
   ]
  },
  {
   "cell_type": "code",
   "execution_count": 99,
   "id": "54069bf6",
   "metadata": {},
   "outputs": [
    {
     "name": "stdout",
     "output_type": "stream",
     "text": [
      "Cross-validation scores:[0.89984825 0.90060698 0.89590288 0.89848255 0.9       ]\n",
      "Average cross-validation score: 0.8990\n"
     ]
    }
   ],
   "source": [
    "cvs = cross_val_score(clf_adc,\n",
    "                        X_train,\n",
    "                        y_train,\n",
    "                        cv=5,\n",
    "                        scoring='accuracy')\n",
    "\n",
    "print('Cross-validation scores:{}'.format(cvs))\n",
    "\n",
    "print('Average cross-validation score: {:.4f}'.format(cvs.mean()))"
   ]
  },
  {
   "cell_type": "code",
   "execution_count": 100,
   "id": "fce84ebc",
   "metadata": {},
   "outputs": [
    {
     "data": {
      "text/plain": [
       "AdaBoostClassifier(base_estimator=DecisionTreeClassifier(max_depth=3,\n",
       "                                                         random_state=42),\n",
       "                   learning_rate=1, random_state=42)"
      ]
     },
     "execution_count": 100,
     "metadata": {},
     "output_type": "execute_result"
    }
   ],
   "source": [
    "clf_adc_2 =AdaBoostClassifier(n_estimators=50, base_estimator=clf_dtc,learning_rate=1, random_state=42)\n",
    "\n",
    "clf_adc_2.fit(X_train,y_train)"
   ]
  },
  {
   "cell_type": "code",
   "execution_count": 101,
   "id": "39baa3c6",
   "metadata": {},
   "outputs": [
    {
     "data": {
      "text/plain": [
       "array(['no', 'yes', 'yes', ..., 'no', 'no', 'no'], dtype=object)"
      ]
     },
     "execution_count": 101,
     "metadata": {},
     "output_type": "execute_result"
    }
   ],
   "source": [
    "y_pred_test = clf_adc_2.predict(X_test)\n",
    "\n",
    "y_pred_test"
   ]
  },
  {
   "cell_type": "code",
   "execution_count": 102,
   "id": "b1423413",
   "metadata": {},
   "outputs": [
    {
     "name": "stdout",
     "output_type": "stream",
     "text": [
      "Model accuracy score: 0.9009\n",
      "Training set score: 0.9069\n"
     ]
    }
   ],
   "source": [
    "print('Model accuracy score: {0:0.4f}'. format(accuracy_score(y_test, y_pred_test)))\n",
    "\n",
    "print('Training set score: {:.4f}'.format(clf_adc_2.score(X_train, y_train)))"
   ]
  },
  {
   "cell_type": "code",
   "execution_count": 103,
   "id": "14c45923",
   "metadata": {},
   "outputs": [
    {
     "name": "stdout",
     "output_type": "stream",
     "text": [
      "Confusion matrix\n",
      "\n",
      " [[7166  144]\n",
      " [ 672  256]]\n",
      "\n",
      "True Positives(TP) =  7166\n",
      "\n",
      "True Negatives(TN) =  256\n",
      "\n",
      "False Positives(FP) =  144\n",
      "\n",
      "False Negatives(FN) =  672\n",
      "\n",
      "classification_report :\n",
      "               precision    recall  f1-score   support\n",
      "\n",
      "          no       0.91      0.98      0.95      7310\n",
      "         yes       0.64      0.28      0.39       928\n",
      "\n",
      "    accuracy                           0.90      8238\n",
      "   macro avg       0.78      0.63      0.67      8238\n",
      "weighted avg       0.88      0.90      0.88      8238\n",
      "\n"
     ]
    }
   ],
   "source": [
    "cm = confusion_matrix(y_test,y_pred_test)\n",
    "\n",
    "print('Confusion matrix\\n\\n', cm)\n",
    "\n",
    "print('\\nTrue Positives(TP) = ', cm[0,0])\n",
    "\n",
    "print('\\nTrue Negatives(TN) = ', cm[1,1])\n",
    "\n",
    "print('\\nFalse Positives(FP) = ', cm[0,1])\n",
    "\n",
    "print('\\nFalse Negatives(FN) = ', cm[1,0])\n",
    "\n",
    "print('\\nclassification_report :\\n',classification_report(y_test,y_pred_test))"
   ]
  },
  {
   "cell_type": "code",
   "execution_count": 104,
   "id": "cff0c8fe",
   "metadata": {},
   "outputs": [
    {
     "name": "stdout",
     "output_type": "stream",
     "text": [
      "Cross-validation scores:[0.89726859 0.89817906 0.88725341 0.892261   0.8939302 ]\n",
      "Average cross-validation score: 0.8938\n"
     ]
    }
   ],
   "source": [
    "cvs = cross_val_score(clf_adc_2,\n",
    "                        X_train,\n",
    "                        y_train,\n",
    "                        cv=5,\n",
    "                        scoring='accuracy')\n",
    "\n",
    "print('Cross-validation scores:{}'.format(cvs))\n",
    "\n",
    "print('Average cross-validation score: {:.4f}'.format(cvs.mean()))"
   ]
  },
  {
   "cell_type": "code",
   "execution_count": 105,
   "id": "eeafdbaf",
   "metadata": {},
   "outputs": [],
   "source": [
    "# from sklearn.naive_bayes import GaussianNB\n",
    "\n",
    "# clf_gnb = GaussianNB()\n",
    "\n",
    "# clf_gnb.fit(X_train, y_train)"
   ]
  },
  {
   "cell_type": "markdown",
   "id": "cf7bc1ad",
   "metadata": {},
   "source": [
    "# ***SVM***"
   ]
  },
  {
   "cell_type": "code",
   "execution_count": 106,
   "id": "86c3edcd",
   "metadata": {},
   "outputs": [
    {
     "name": "stdout",
     "output_type": "stream",
     "text": [
      "Time: 1038.654500246048\n"
     ]
    }
   ],
   "source": [
    "from sklearn.svm import SVC\n",
    "\n",
    "t0 = time()\n",
    "\n",
    "clf_svc=SVC(C=0.5 ,random_state=42, probability=True)\n",
    "\n",
    "clf_svc.fit(X_train,y_train)\n",
    "\n",
    "print('Time:',time() - t0)"
   ]
  },
  {
   "cell_type": "code",
   "execution_count": 107,
   "id": "62d0b79c",
   "metadata": {},
   "outputs": [
    {
     "name": "stdout",
     "output_type": "stream",
     "text": [
      "Model accuracy score: 0.9018\n",
      "Time: 9.304500102996826\n"
     ]
    }
   ],
   "source": [
    "t0 = time()\n",
    "\n",
    "y_pred_test = clf_svc.predict(X_test)\n",
    "\n",
    "print('Model accuracy score: {0:0.4f}'. format(accuracy_score(y_test, y_pred_test)))\n",
    "\n",
    "print('Time:',time() - t0)"
   ]
  },
  {
   "cell_type": "markdown",
   "id": "8e10879c",
   "metadata": {},
   "source": [
    "**Select model with best accuracy to Hyperparameter Optimization using GridSearch CV**\n",
    "\n",
    "Accuracy Model :\n",
    "\n",
    "- Logreg = 0.8997\n",
    "- Decision Tree = 0.9007\n",
    "- Random Forest = 0.8990\n",
    "- KNN = 0.8861\n",
    "- SVM = 0.8991\n",
    "- Other Algorithm (Adaboost Classifier) = 0.9005\n",
    "\n",
    "I choose the top 3 classifiers with maximum accuracy for ensemble modeling.\n",
    "\n",
    "They are `LinearRegression`, `Decision Tree` and `AdaboostClassifier`\n",
    "\n",
    "So, we will tune the hyperparameters of these models before proceeding.\n"
   ]
  },
  {
   "cell_type": "markdown",
   "id": "dda289f4",
   "metadata": {},
   "source": [
    "**Logistic Regression Parameter Tuning**"
   ]
  },
  {
   "cell_type": "code",
   "execution_count": 108,
   "id": "305eac23",
   "metadata": {},
   "outputs": [
    {
     "data": {
      "text/plain": [
       "GridSearchCV(cv=5, estimator=LogisticRegression(random_state=42),\n",
       "             param_grid={'C': [1, 10], 'penalty': ['l1', 'l2']},\n",
       "             scoring='accuracy')"
      ]
     },
     "execution_count": 108,
     "metadata": {},
     "output_type": "execute_result"
    }
   ],
   "source": [
    "from sklearn.model_selection import GridSearchCV\n",
    "\n",
    "clf_lr = LogisticRegression(random_state=42)\n",
    "\n",
    "\n",
    "lr_params={'penalty':['l1','l2'], \n",
    "           'C':[1, 10]}\n",
    "\n",
    "\n",
    "lr_grid_search = GridSearchCV(estimator = clf_lr,  \n",
    "                               param_grid = lr_params,\n",
    "                               scoring = 'accuracy',\n",
    "                               cv = 5,\n",
    "                               verbose=0)\n",
    "\n",
    "\n",
    "lr_grid_search.fit(X_train, y_train)"
   ]
  },
  {
   "cell_type": "code",
   "execution_count": 109,
   "id": "9523dffe",
   "metadata": {},
   "outputs": [
    {
     "name": "stdout",
     "output_type": "stream",
     "text": [
      "Logistic Regression GridSearch CV best score : 0.8990\n",
      "\n",
      "\n",
      "Logistic Regression that give the best results : \n",
      "\n",
      " {'C': 1, 'penalty': 'l2'}\n",
      "\n",
      "\n",
      "Logistic Regression that was chosen by the search : \n",
      "\n",
      " LogisticRegression(C=1, random_state=42)\n"
     ]
    }
   ],
   "source": [
    "# examine the best model\n",
    "\n",
    "# best score achieved during the GridSearchCV\n",
    "print('Logistic Regression GridSearch CV best score : {:.4f}\\n\\n'.format(lr_grid_search.best_score_))\n",
    "\n",
    "# print parameters that give the best results\n",
    "print('Logistic Regression that give the best results :','\\n\\n', (lr_grid_search.best_params_))\n",
    "\n",
    "# print estimator that was chosen by the GridSearch\n",
    "lr_best = lr_grid_search.best_estimator_\n",
    "print('\\n\\nLogistic Regression that was chosen by the search :','\\n\\n', (lr_best))"
   ]
  },
  {
   "cell_type": "markdown",
   "id": "afc75f9e",
   "metadata": {},
   "source": [
    "**Decision Tree Parameter Tuning**"
   ]
  },
  {
   "cell_type": "code",
   "execution_count": 110,
   "id": "bcdc39ad",
   "metadata": {},
   "outputs": [
    {
     "data": {
      "text/plain": [
       "GridSearchCV(cv=5, estimator=DecisionTreeClassifier(random_state=42),\n",
       "             param_grid={'criterion': ['gini', 'entrophy'],\n",
       "                         'max_depth': [3, 4, 8, 16],\n",
       "                         'splitter': ['best', 'random']},\n",
       "             scoring='accuracy')"
      ]
     },
     "execution_count": 110,
     "metadata": {},
     "output_type": "execute_result"
    }
   ],
   "source": [
    "clf_dtc = DecisionTreeClassifier(random_state=42)\n",
    "\n",
    "\n",
    "dtc_params={'criterion':['gini','entrophy'], \n",
    "            'splitter':['best','random'],\n",
    "            'max_depth':[3,4,8,16]}\n",
    "\n",
    "\n",
    "dtc_grid_search = GridSearchCV(estimator = clf_dtc,  \n",
    "                               param_grid = dtc_params,\n",
    "                               scoring = 'accuracy',\n",
    "                               cv = 5,\n",
    "                               verbose=0)\n",
    "\n",
    "\n",
    "dtc_grid_search.fit(X_train, y_train)"
   ]
  },
  {
   "cell_type": "code",
   "execution_count": 111,
   "id": "2502e439",
   "metadata": {},
   "outputs": [
    {
     "name": "stdout",
     "output_type": "stream",
     "text": [
      "Decision Tree GridSearch CV best score : 0.8994\n",
      "\n",
      "\n",
      "Decision Tree that give the best results : \n",
      "\n",
      " {'criterion': 'gini', 'max_depth': 3, 'splitter': 'best'}\n",
      "\n",
      "\n",
      "Decision Tree that was chosen by the search : \n",
      "\n",
      " DecisionTreeClassifier(max_depth=3, random_state=42)\n"
     ]
    }
   ],
   "source": [
    "# examine the best model\n",
    "\n",
    "# best score achieved during the GridSearchCV\n",
    "print('Decision Tree GridSearch CV best score : {:.4f}\\n\\n'.format(dtc_grid_search.best_score_))\n",
    "\n",
    "# print parameters that give the best results\n",
    "print('Decision Tree that give the best results :','\\n\\n', (dtc_grid_search.best_params_))\n",
    "\n",
    "# print estimator that was chosen by the GridSearch\n",
    "dtc_best = dtc_grid_search.best_estimator_\n",
    "print('\\n\\nDecision Tree that was chosen by the search :','\\n\\n', (dtc_best))"
   ]
  },
  {
   "cell_type": "markdown",
   "id": "e04c726f",
   "metadata": {},
   "source": [
    "**AdaBoost Classifier Parameter Tuning**"
   ]
  },
  {
   "cell_type": "code",
   "execution_count": 112,
   "id": "d86d440b",
   "metadata": {},
   "outputs": [
    {
     "data": {
      "text/plain": [
       "GridSearchCV(cv=5,\n",
       "             estimator=AdaBoostClassifier(base_estimator=DecisionTreeClassifier(class_weight='balanced',\n",
       "                                                                                max_features='auto',\n",
       "                                                                                random_state=42)),\n",
       "             param_grid={'base_estimator__criterion': ['gini', 'entropy'],\n",
       "                         'base_estimator__splitter': ['best', 'random'],\n",
       "                         'n_estimators': [1, 2]},\n",
       "             scoring='accuracy')"
      ]
     },
     "execution_count": 112,
     "metadata": {},
     "output_type": "execute_result"
    }
   ],
   "source": [
    "abc_params = {\"base_estimator__criterion\" : [\"gini\", \"entropy\"],\n",
    "              \"base_estimator__splitter\" :   [\"best\", \"random\"],\n",
    "              \"n_estimators\": [1, 2]\n",
    "             }\n",
    "\n",
    "dtc_clf = DecisionTreeClassifier(random_state = 42, max_features = \"auto\", class_weight = \"balanced\", max_depth = None)\n",
    "\n",
    "abc_clf = AdaBoostClassifier(base_estimator = dtc_clf)\n",
    "\n",
    "\n",
    "abc_grid_search = GridSearchCV(estimator = abc_clf,  \n",
    "                               param_grid = abc_params,\n",
    "                               scoring = 'accuracy',\n",
    "                               cv = 5,\n",
    "                               verbose=0)\n",
    "\n",
    "\n",
    "abc_grid_search.fit(X_train, y_train)"
   ]
  },
  {
   "cell_type": "code",
   "execution_count": 113,
   "id": "ee7c89e0",
   "metadata": {},
   "outputs": [
    {
     "name": "stdout",
     "output_type": "stream",
     "text": [
      "AdaBoost GridSearch CV best score : 0.8595\n",
      "\n",
      "\n",
      "AdaBoost Parameters that give the best results : \n",
      "\n",
      " {'base_estimator__criterion': 'gini', 'base_estimator__splitter': 'best', 'n_estimators': 2}\n",
      "\n",
      "\n",
      "XGBoost Estimator that was chosen by the search : \n",
      "\n",
      " AdaBoostClassifier(base_estimator=DecisionTreeClassifier(class_weight='balanced',\n",
      "                                                         max_features='auto',\n",
      "                                                         random_state=42),\n",
      "                   n_estimators=2)\n"
     ]
    }
   ],
   "source": [
    "# examine the best model\n",
    "\n",
    "# best score achieved during the GridSearchCV\n",
    "print('AdaBoost GridSearch CV best score : {:.4f}\\n\\n'.format(abc_grid_search.best_score_))\n",
    "\n",
    "# print parameters that give the best results\n",
    "print('AdaBoost Parameters that give the best results :','\\n\\n', (abc_grid_search.best_params_))\n",
    "\n",
    "# print estimator that was chosen by the GridSearch\n",
    "abc_best = abc_grid_search.best_estimator_\n",
    "print('\\n\\nXGBoost Estimator that was chosen by the search :','\\n\\n', (abc_best))"
   ]
  },
  {
   "cell_type": "markdown",
   "id": "34e1b4b8",
   "metadata": {},
   "source": [
    "**Ensemble Modeling**"
   ]
  },
  {
   "cell_type": "code",
   "execution_count": 114,
   "id": "323b82d4",
   "metadata": {},
   "outputs": [],
   "source": [
    "from sklearn.ensemble import VotingClassifier\n",
    "\n",
    "votingC = VotingClassifier(estimators=[('lr',lr_best), ('dtc',dtc_best), ('abc',abc_best)], voting='soft')\n",
    "\n",
    "votingC = votingC.fit(X_train, y_train)"
   ]
  },
  {
   "cell_type": "markdown",
   "id": "219ade0b",
   "metadata": {},
   "source": [
    "**Model Inference**"
   ]
  },
  {
   "cell_type": "code",
   "execution_count": 115,
   "id": "5fd617a4",
   "metadata": {},
   "outputs": [
    {
     "data": {
      "text/html": [
       "<div>\n",
       "<style scoped>\n",
       "    .dataframe tbody tr th:only-of-type {\n",
       "        vertical-align: middle;\n",
       "    }\n",
       "\n",
       "    .dataframe tbody tr th {\n",
       "        vertical-align: top;\n",
       "    }\n",
       "\n",
       "    .dataframe thead th {\n",
       "        text-align: right;\n",
       "    }\n",
       "</style>\n",
       "<table border=\"1\" class=\"dataframe\">\n",
       "  <thead>\n",
       "    <tr style=\"text-align: right;\">\n",
       "      <th></th>\n",
       "      <th>39768</th>\n",
       "      <th>4209</th>\n",
       "      <th>29734</th>\n",
       "      <th>23085</th>\n",
       "      <th>17746</th>\n",
       "    </tr>\n",
       "  </thead>\n",
       "  <tbody>\n",
       "    <tr>\n",
       "      <th>age</th>\n",
       "      <td>72</td>\n",
       "      <td>33</td>\n",
       "      <td>41</td>\n",
       "      <td>40</td>\n",
       "      <td>47</td>\n",
       "    </tr>\n",
       "    <tr>\n",
       "      <th>job</th>\n",
       "      <td>retired</td>\n",
       "      <td>technician</td>\n",
       "      <td>blue-collar</td>\n",
       "      <td>technician</td>\n",
       "      <td>services</td>\n",
       "    </tr>\n",
       "    <tr>\n",
       "      <th>marital</th>\n",
       "      <td>single</td>\n",
       "      <td>divorced</td>\n",
       "      <td>married</td>\n",
       "      <td>divorced</td>\n",
       "      <td>divorced</td>\n",
       "    </tr>\n",
       "    <tr>\n",
       "      <th>education</th>\n",
       "      <td>university.degree</td>\n",
       "      <td>professional.course</td>\n",
       "      <td>high.school</td>\n",
       "      <td>professional.course</td>\n",
       "      <td>professional.course</td>\n",
       "    </tr>\n",
       "    <tr>\n",
       "      <th>default</th>\n",
       "      <td>no</td>\n",
       "      <td>no</td>\n",
       "      <td>no</td>\n",
       "      <td>no</td>\n",
       "      <td>no</td>\n",
       "    </tr>\n",
       "    <tr>\n",
       "      <th>housing</th>\n",
       "      <td>no</td>\n",
       "      <td>no</td>\n",
       "      <td>yes</td>\n",
       "      <td>no</td>\n",
       "      <td>no</td>\n",
       "    </tr>\n",
       "    <tr>\n",
       "      <th>loan</th>\n",
       "      <td>no</td>\n",
       "      <td>no</td>\n",
       "      <td>no</td>\n",
       "      <td>no</td>\n",
       "      <td>no</td>\n",
       "    </tr>\n",
       "    <tr>\n",
       "      <th>contact</th>\n",
       "      <td>cellular</td>\n",
       "      <td>telephone</td>\n",
       "      <td>cellular</td>\n",
       "      <td>cellular</td>\n",
       "      <td>cellular</td>\n",
       "    </tr>\n",
       "    <tr>\n",
       "      <th>month</th>\n",
       "      <td>may</td>\n",
       "      <td>may</td>\n",
       "      <td>apr</td>\n",
       "      <td>aug</td>\n",
       "      <td>jul</td>\n",
       "    </tr>\n",
       "    <tr>\n",
       "      <th>day_of_week</th>\n",
       "      <td>fri</td>\n",
       "      <td>mon</td>\n",
       "      <td>mon</td>\n",
       "      <td>tue</td>\n",
       "      <td>tue</td>\n",
       "    </tr>\n",
       "    <tr>\n",
       "      <th>duration</th>\n",
       "      <td>114</td>\n",
       "      <td>1218</td>\n",
       "      <td>53</td>\n",
       "      <td>279</td>\n",
       "      <td>318</td>\n",
       "    </tr>\n",
       "    <tr>\n",
       "      <th>campaign</th>\n",
       "      <td>3</td>\n",
       "      <td>3</td>\n",
       "      <td>1</td>\n",
       "      <td>4</td>\n",
       "      <td>1</td>\n",
       "    </tr>\n",
       "    <tr>\n",
       "      <th>pdays</th>\n",
       "      <td>999</td>\n",
       "      <td>999</td>\n",
       "      <td>999</td>\n",
       "      <td>999</td>\n",
       "      <td>999</td>\n",
       "    </tr>\n",
       "    <tr>\n",
       "      <th>previous</th>\n",
       "      <td>0</td>\n",
       "      <td>0</td>\n",
       "      <td>1</td>\n",
       "      <td>0</td>\n",
       "      <td>0</td>\n",
       "    </tr>\n",
       "    <tr>\n",
       "      <th>poutcome</th>\n",
       "      <td>nonexistent</td>\n",
       "      <td>nonexistent</td>\n",
       "      <td>failure</td>\n",
       "      <td>nonexistent</td>\n",
       "      <td>nonexistent</td>\n",
       "    </tr>\n",
       "    <tr>\n",
       "      <th>emp.var.rate</th>\n",
       "      <td>-1.8</td>\n",
       "      <td>1.1</td>\n",
       "      <td>-1.8</td>\n",
       "      <td>1.4</td>\n",
       "      <td>1.4</td>\n",
       "    </tr>\n",
       "    <tr>\n",
       "      <th>cons.price.idx</th>\n",
       "      <td>93.876</td>\n",
       "      <td>93.994</td>\n",
       "      <td>93.075</td>\n",
       "      <td>93.444</td>\n",
       "      <td>93.918</td>\n",
       "    </tr>\n",
       "    <tr>\n",
       "      <th>cons.conf.idx</th>\n",
       "      <td>-40.0</td>\n",
       "      <td>-36.4</td>\n",
       "      <td>-47.1</td>\n",
       "      <td>-36.1</td>\n",
       "      <td>-42.7</td>\n",
       "    </tr>\n",
       "    <tr>\n",
       "      <th>euribor3m</th>\n",
       "      <td>0.699</td>\n",
       "      <td>4.858</td>\n",
       "      <td>1.405</td>\n",
       "      <td>4.965</td>\n",
       "      <td>4.961</td>\n",
       "    </tr>\n",
       "    <tr>\n",
       "      <th>nr.employed</th>\n",
       "      <td>5008.7</td>\n",
       "      <td>5191.0</td>\n",
       "      <td>5099.1</td>\n",
       "      <td>5228.1</td>\n",
       "      <td>5228.1</td>\n",
       "    </tr>\n",
       "    <tr>\n",
       "      <th>subscribed</th>\n",
       "      <td>no</td>\n",
       "      <td>yes</td>\n",
       "      <td>no</td>\n",
       "      <td>no</td>\n",
       "      <td>no</td>\n",
       "    </tr>\n",
       "  </tbody>\n",
       "</table>\n",
       "</div>"
      ],
      "text/plain": [
       "                            39768                4209         29734  \\\n",
       "age                            72                   33           41   \n",
       "job                       retired           technician  blue-collar   \n",
       "marital                    single             divorced      married   \n",
       "education       university.degree  professional.course  high.school   \n",
       "default                        no                   no           no   \n",
       "housing                        no                   no          yes   \n",
       "loan                           no                   no           no   \n",
       "contact                  cellular            telephone     cellular   \n",
       "month                         may                  may          apr   \n",
       "day_of_week                   fri                  mon          mon   \n",
       "duration                      114                 1218           53   \n",
       "campaign                        3                    3            1   \n",
       "pdays                         999                  999          999   \n",
       "previous                        0                    0            1   \n",
       "poutcome              nonexistent          nonexistent      failure   \n",
       "emp.var.rate                 -1.8                  1.1         -1.8   \n",
       "cons.price.idx             93.876               93.994       93.075   \n",
       "cons.conf.idx               -40.0                -36.4        -47.1   \n",
       "euribor3m                   0.699                4.858        1.405   \n",
       "nr.employed                5008.7               5191.0       5099.1   \n",
       "subscribed                     no                  yes           no   \n",
       "\n",
       "                              23085                17746  \n",
       "age                              40                   47  \n",
       "job                      technician             services  \n",
       "marital                    divorced             divorced  \n",
       "education       professional.course  professional.course  \n",
       "default                          no                   no  \n",
       "housing                          no                   no  \n",
       "loan                             no                   no  \n",
       "contact                    cellular             cellular  \n",
       "month                           aug                  jul  \n",
       "day_of_week                     tue                  tue  \n",
       "duration                        279                  318  \n",
       "campaign                          4                    1  \n",
       "pdays                           999                  999  \n",
       "previous                          0                    0  \n",
       "poutcome                nonexistent          nonexistent  \n",
       "emp.var.rate                    1.4                  1.4  \n",
       "cons.price.idx               93.444               93.918  \n",
       "cons.conf.idx                 -36.1                -42.7  \n",
       "euribor3m                     4.965                4.961  \n",
       "nr.employed                  5228.1               5228.1  \n",
       "subscribed                       no                   no  "
      ]
     },
     "execution_count": 115,
     "metadata": {},
     "output_type": "execute_result"
    }
   ],
   "source": [
    "df.sample(5).T"
   ]
  },
  {
   "cell_type": "code",
   "execution_count": 116,
   "id": "a6c46231",
   "metadata": {},
   "outputs": [
    {
     "data": {
      "text/plain": [
       "Index(['age', 'job', 'marital', 'education', 'default', 'housing', 'loan',\n",
       "       'contact', 'month', 'day_of_week', 'duration', 'campaign', 'pdays',\n",
       "       'previous', 'poutcome', 'emp.var.rate', 'cons.price.idx',\n",
       "       'cons.conf.idx', 'euribor3m', 'nr.employed', 'subscribed'],\n",
       "      dtype='object')"
      ]
     },
     "execution_count": 116,
     "metadata": {},
     "output_type": "execute_result"
    }
   ],
   "source": [
    "df.columns"
   ]
  },
  {
   "cell_type": "code",
   "execution_count": 117,
   "id": "5c0b82af",
   "metadata": {},
   "outputs": [
    {
     "data": {
      "text/html": [
       "<div>\n",
       "<style scoped>\n",
       "    .dataframe tbody tr th:only-of-type {\n",
       "        vertical-align: middle;\n",
       "    }\n",
       "\n",
       "    .dataframe tbody tr th {\n",
       "        vertical-align: top;\n",
       "    }\n",
       "\n",
       "    .dataframe thead th {\n",
       "        text-align: right;\n",
       "    }\n",
       "</style>\n",
       "<table border=\"1\" class=\"dataframe\">\n",
       "  <thead>\n",
       "    <tr style=\"text-align: right;\">\n",
       "      <th></th>\n",
       "      <th>age</th>\n",
       "      <th>job</th>\n",
       "      <th>marital</th>\n",
       "      <th>education</th>\n",
       "      <th>default</th>\n",
       "      <th>housing</th>\n",
       "      <th>loan</th>\n",
       "      <th>contact</th>\n",
       "      <th>month</th>\n",
       "      <th>day_of_week</th>\n",
       "      <th>campaign</th>\n",
       "      <th>previous</th>\n",
       "      <th>poutcome</th>\n",
       "      <th>emp.var.rate</th>\n",
       "      <th>cons.price.idx</th>\n",
       "      <th>cons.conf.idx</th>\n",
       "      <th>euribor3m</th>\n",
       "      <th>nr.employed</th>\n",
       "    </tr>\n",
       "  </thead>\n",
       "  <tbody>\n",
       "    <tr>\n",
       "      <th>1</th>\n",
       "      <td>42</td>\n",
       "      <td>blue-collar</td>\n",
       "      <td>married</td>\n",
       "      <td>high.school</td>\n",
       "      <td>unknown</td>\n",
       "      <td>yes</td>\n",
       "      <td>yes</td>\n",
       "      <td>telephone</td>\n",
       "      <td>jun</td>\n",
       "      <td>wed</td>\n",
       "      <td>2</td>\n",
       "      <td>5</td>\n",
       "      <td>success</td>\n",
       "      <td>1.4</td>\n",
       "      <td>93</td>\n",
       "      <td>-46</td>\n",
       "      <td>1200</td>\n",
       "      <td>5001</td>\n",
       "    </tr>\n",
       "  </tbody>\n",
       "</table>\n",
       "</div>"
      ],
      "text/plain": [
       "   age          job  marital    education  default housing loan    contact  \\\n",
       "1   42  blue-collar  married  high.school  unknown     yes  yes  telephone   \n",
       "\n",
       "  month day_of_week  campaign  previous poutcome  emp.var.rate  \\\n",
       "1   jun         wed         2         5  success           1.4   \n",
       "\n",
       "   cons.price.idx  cons.conf.idx  euribor3m  nr.employed  \n",
       "1              93            -46       1200         5001  "
      ]
     },
     "execution_count": 117,
     "metadata": {},
     "output_type": "execute_result"
    }
   ],
   "source": [
    "new_data = [{'age':42, 'job':'blue-collar', 'marital':'married',\n",
    "             'education':'high.school', 'default':'unknown',\n",
    "             'housing':'yes', 'loan':'yes', 'contact':'telephone',\n",
    "             'month':'jun', 'day_of_week':'wed', 'campaign':2, \n",
    "             'previous':5, 'poutcome':'success', 'emp.var.rate':1.4, \n",
    "             'cons.price.idx':93,'cons.conf.idx':-46, \n",
    "             'euribor3m':1200, 'nr.employed':5001}]\n",
    "new_data = pd.DataFrame(new_data,index=[1])\n",
    "new_data"
   ]
  },
  {
   "cell_type": "code",
   "execution_count": 118,
   "id": "1fd868a4",
   "metadata": {},
   "outputs": [],
   "source": [
    "new_sample = full_pipeline.transform(new_data)"
   ]
  },
  {
   "cell_type": "code",
   "execution_count": 119,
   "id": "62bfb551",
   "metadata": {},
   "outputs": [
    {
     "data": {
      "text/plain": [
       "array(['yes'], dtype=object)"
      ]
     },
     "execution_count": 119,
     "metadata": {},
     "output_type": "execute_result"
    }
   ],
   "source": [
    "new_pred = votingC.predict(new_sample)\n",
    "new_pred"
   ]
  },
  {
   "cell_type": "markdown",
   "id": "236abe5d",
   "metadata": {},
   "source": [
    "**Overall Analysis**\n",
    "\n",
    "In this kernel I'm trying to build a model with prepared datasets to predict subscriber consumers or not. There are 7 models used and the results of the accuracy scores obtained are:\n",
    "\n",
    "- Logreg = 0.8997\n",
    "- Decision Tree = 0.9007\n",
    "- Random Forest = 0.8990\n",
    "- KNN = 0.8861\n",
    "- SVM = 0.8996\n",
    "- Other Algorithm (Adaboost Classifier) = 0.9005\n",
    "\n",
    "After getting each accuracy, then I took the 3 best models for hyper parameter tuning they are `Logreg`,`Decision Tree` and `Adaboost Classifier`. Then an ensemble of models with votting classifier is carried out to get the best model that is ready to use.\n",
    "\n",
    "*note: for model analysis, I have marked down each line after the classifier*"
   ]
  },
  {
   "cell_type": "code",
   "execution_count": null,
   "id": "1d2209e6",
   "metadata": {},
   "outputs": [],
   "source": []
  }
 ],
 "metadata": {
  "kernelspec": {
   "display_name": "Python 3 (ipykernel)",
   "language": "python",
   "name": "python3"
  },
  "language_info": {
   "codemirror_mode": {
    "name": "ipython",
    "version": 3
   },
   "file_extension": ".py",
   "mimetype": "text/x-python",
   "name": "python",
   "nbconvert_exporter": "python",
   "pygments_lexer": "ipython3",
   "version": "3.9.5"
  }
 },
 "nbformat": 4,
 "nbformat_minor": 5
}
